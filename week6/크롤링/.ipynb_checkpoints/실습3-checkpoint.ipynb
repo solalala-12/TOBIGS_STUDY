{
 "cells": [
  {
   "cell_type": "markdown",
   "metadata": {},
   "source": [
    "# 12.챗봇 (11.16)"
   ]
  },
  {
   "cell_type": "markdown",
   "metadata": {},
   "source": [
    "## 셀레늄"
   ]
  },
  {
   "cell_type": "code",
   "execution_count": null,
   "metadata": {},
   "outputs": [],
   "source": [
    "###이거 중요중요~ 용량 큰 브라워저 기반하에 하는거라 느리고 무겁긴하지만 일단 되긴됨. "
   ]
  },
  {
   "cell_type": "code",
   "execution_count": 1,
   "metadata": {},
   "outputs": [
    {
     "name": "stdout",
     "output_type": "stream",
     "text": [
      "Collecting selenium\n",
      "  Downloading https://files.pythonhosted.org/packages/80/d6/4294f0b4bce4de0abf13e17190289f9d0613b0a44e5dd6a7f5ca98459853/selenium-3.141.0-py2.py3-none-any.whl (904kB)\n",
      "Requirement already satisfied: urllib3 in c:\\users\\user\\anaconda3\\lib\\site-packages (from selenium) (1.22)\n",
      "Installing collected packages: selenium\n",
      "Successfully installed selenium-3.141.0\n"
     ]
    },
    {
     "name": "stderr",
     "output_type": "stream",
     "text": [
      "You are using pip version 10.0.1, however version 18.1 is available.\n",
      "You should consider upgrading via the 'python -m pip install --upgrade pip' command.\n"
     ]
    }
   ],
   "source": [
    "!pip install selenium"
   ]
  },
  {
   "cell_type": "code",
   "execution_count": 3,
   "metadata": {},
   "outputs": [
    {
     "data": {
      "text/plain": [
       "'C:\\\\Users\\\\User\\\\Desktop\\\\비정형데이터분석\\\\수업코드'"
      ]
     },
     "execution_count": 3,
     "metadata": {},
     "output_type": "execute_result"
    }
   ],
   "source": [
    "import os   \n",
    "os.getcwd()   # 현재 작업 디렉토리를 확인한다.\n",
    "#현재 작업 디렉토리에 드라이버가 있어야한다. "
   ]
  },
  {
   "cell_type": "code",
   "execution_count": 4,
   "metadata": {},
   "outputs": [],
   "source": [
    "###드라이버 받기--> 구글 검색: 셀레눔 #https://www.seleniumhq.org/"
   ]
  },
  {
   "cell_type": "code",
   "execution_count": 6,
   "metadata": {},
   "outputs": [],
   "source": [
    "#from selenium.webdriver import Ie\n",
    "크롬-> from selenium.webdriver imort Chrome\n",
    "browser=Chrome()"
   ]
  },
  {
   "cell_type": "code",
   "execution_count": 19,
   "metadata": {},
   "outputs": [],
   "source": [
    "browser=Ie() ##익스프롤러 브라우저 기반으로 고고싱"
   ]
  },
  {
   "cell_type": "code",
   "execution_count": 10,
   "metadata": {},
   "outputs": [],
   "source": [
    "#에러:SessionNotCreatedException :: ZOOM 때문에 IE만 그럼... 빌게이츠 ㄷㄷ "
   ]
  },
  {
   "cell_type": "code",
   "execution_count": 20,
   "metadata": {},
   "outputs": [],
   "source": [
    "browser.get('http://naver.com')"
   ]
  },
  {
   "cell_type": "code",
   "execution_count": 12,
   "metadata": {},
   "outputs": [
    {
     "data": {
      "text/plain": [
       "<bound method WebDriver.find_element_by_css_selector of <selenium.webdriver.ie.webdriver.WebDriver (session=\"edf98261-b444-4cd6-a25a-ed7563eb4a0e\")>>"
      ]
     },
     "execution_count": 12,
     "metadata": {},
     "output_type": "execute_result"
    }
   ],
   "source": [
    "#검색창 찾기  \n",
    "browser.find_element_by_css_selector ##우리가 배운 css문법 적용 \n",
    "##단수와 복수(selectors)의 차이: 단수-> 하나만. 복수->전부 찾아준다."
   ]
  },
  {
   "cell_type": "code",
   "execution_count": 29,
   "metadata": {},
   "outputs": [],
   "source": [
    "#green=browser.find_element_by_css_selector('#query') #id=\"query\"이니까 \n",
    "#안되니까 크롬으로 교체~"
   ]
  },
  {
   "cell_type": "code",
   "execution_count": 23,
   "metadata": {},
   "outputs": [],
   "source": [
    "from selenium.webdriver import Chrome\n",
    "browser=Chrome()"
   ]
  },
  {
   "cell_type": "code",
   "execution_count": 24,
   "metadata": {},
   "outputs": [],
   "source": [
    "browser.get('http://naver.com')"
   ]
  },
  {
   "cell_type": "code",
   "execution_count": 25,
   "metadata": {},
   "outputs": [],
   "source": [
    "green=browser.find_element_by_css_selector('#query') #id=\"query\"이니까 \n",
    "#검색창 "
   ]
  },
  {
   "cell_type": "code",
   "execution_count": 26,
   "metadata": {},
   "outputs": [],
   "source": [
    "#검색창 접근\n",
    "green.click()"
   ]
  },
  {
   "cell_type": "code",
   "execution_count": 27,
   "metadata": {},
   "outputs": [],
   "source": [
    "green.send_keys('google') #글자 전송 #보통 로그인할떄 사용 (자동로그인)"
   ]
  },
  {
   "cell_type": "code",
   "execution_count": 28,
   "metadata": {},
   "outputs": [],
   "source": [
    "##오류가 나면 보통 처음부터 다시하면 된다. \n",
    "#또한 그냥 직접 제어하는게 더 편하고 빠를수도 있다. "
   ]
  },
  {
   "cell_type": "code",
   "execution_count": 30,
   "metadata": {},
   "outputs": [],
   "source": [
    "##직접 제어-트립어드바이저 접속\n",
    "##일일이 \"더보기\"를 누를것이냐?\n",
    "#더보기 클래스:class=\"taLnk ulBlueLinks\" 근데\n",
    "#css문법상 띄어쓰기 -> 하위종속의 의미 \n",
    "#이걸 어떻게 할 거이냐 ? 클래스가 2개인거니까 둘다 \n",
    "#점을 붙여주고 공백없에주기 "
   ]
  },
  {
   "cell_type": "code",
   "execution_count": 31,
   "metadata": {},
   "outputs": [],
   "source": [
    "#결국\n",
    "더보기=browser.find_element_by_css_selector('.taLnk.ulBlueLinks')"
   ]
  },
  {
   "cell_type": "code",
   "execution_count": 32,
   "metadata": {},
   "outputs": [],
   "source": [
    "더보기.click()"
   ]
  },
  {
   "cell_type": "code",
   "execution_count": 33,
   "metadata": {},
   "outputs": [],
   "source": [
    "review=browser.find_elements_by_css_selector('.partial_entry')"
   ]
  },
  {
   "cell_type": "code",
   "execution_count": 37,
   "metadata": {},
   "outputs": [
    {
     "data": {
      "text/plain": [
       "'왕십리에서 가격이 저렴하고 맛있다는 이야기 듣고 방문했는데 웨이팅이 있어서 쫌 기다리기는 했지만 기다리는 만큼 충분히 맛있고 좋았습니다. 그리고 서비스로 주시는 것도 맛있어서 또 방문해서 다른것도 맛보고 싶게 만들었습니다. 모듬사시미도 맛있고 타코와사비도 먹기 좋았습니다.'"
      ]
     },
     "execution_count": 37,
     "metadata": {},
     "output_type": "execute_result"
    }
   ],
   "source": [
    "review[0].text"
   ]
  },
  {
   "cell_type": "code",
   "execution_count": 38,
   "metadata": {},
   "outputs": [],
   "source": [
    "#####네이버 뉴스로 옮기기"
   ]
  },
  {
   "cell_type": "code",
   "execution_count": 39,
   "metadata": {},
   "outputs": [],
   "source": [
    "titles=browser.find_elements_by_css_selector('.newsnow_tx_inner')"
   ]
  },
  {
   "cell_type": "code",
   "execution_count": 41,
   "metadata": {},
   "outputs": [
    {
     "name": "stdout",
     "output_type": "stream",
     "text": [
      "국어 1등급 80점대 \"역대 가장 어려워\"…문ㆍ이과 변수는 '국어'\n",
      "통일부 \"김 위원장 시험지도 무기 재래식 추정…추가확인 필요\"\n",
      "작년 집주인 104만명 집값 1억 이상 뛰어…6만1천명은 5억 초과\n",
      "처음학교로 사립유치원 참여 56.5%…세종·광주·서울 등 높아\n",
      "미세먼지 계속…오후부터 찬바람 '내일 아침 서울 1도'\n",
      "'독감의 계절' 시작…16일 인플루엔자 유행주의보 발령\n",
      "경찰 \"'이수역 폭행', 여성이 상대남성 손 쳐서 시작\"\n",
      "독일·프랑스, 브렉시트 합의안 \"재협상은 없다\"\n",
      "일러, 북방영토 협상 가속화…아베 \"반환해도 미군기지 안두겠다\"\n",
      "조명균 \"본격 남북경협, 확실한 비핵화 진전 후 가능…北에도 지적\"\n"
     ]
    }
   ],
   "source": [
    "for title in titles:\n",
    "    print(title.text) #lxml의 text_content()와 같음."
   ]
  },
  {
   "cell_type": "code",
   "execution_count": 42,
   "metadata": {},
   "outputs": [],
   "source": [
    "#####request와의 차이 \n",
    "##request는 2가지. text/context.text \n",
    "#text는 보여지는거 , context는 내용 전부 \n",
    "###셀레눔에서의 text는 내용 전부 보여주는거! "
   ]
  },
  {
   "cell_type": "code",
   "execution_count": 52,
   "metadata": {},
   "outputs": [],
   "source": [
    "titles=browser.find_elements_by_css_selector('.newsnow_tx_inner a')\n",
    "#이렇게하면 링크가 나옴~"
   ]
  },
  {
   "cell_type": "code",
   "execution_count": 53,
   "metadata": {},
   "outputs": [
    {
     "name": "stdout",
     "output_type": "stream",
     "text": [
      "국어 1등급 80점대 \"역대 가장 어려워\"…문ㆍ이과 변수는 '국어'\n",
      "https://news.naver.com/main/hotissue/sectionList.nhn?sid1=102&gid=1082984&mid=hot&viewType=pc&cid=1082985&nh=20181116113434\n",
      "통일부 \"김 위원장 시험지도 무기 재래식 추정…추가확인 필요\"\n",
      "https://news.naver.com/main/hotissue/sectionList.nhn?sid1=100&gid=1079155&mid=hot&viewType=pc&cid=1079165&nh=20181116114808#1079699\n",
      "작년 집주인 104만명 집값 1억 이상 뛰어…6만1천명은 5억 초과\n",
      "https://news.naver.com/main/read.nhn?oid=001&sid1=101&aid=0010472682&mid=shm&mode=LSD&nh=20181116120641\n",
      "처음학교로 사립유치원 참여 56.5%…세종·광주·서울 등 높아\n",
      "https://news.naver.com/main/read.nhn?oid=003&sid1=102&aid=0008915520&mid=shm&mode=LSD&nh=20181116122828\n",
      "미세먼지 계속…오후부터 찬바람 '내일 아침 서울 1도'\n",
      "https://news.naver.com/main/read.nhn?oid=056&sid1=103&aid=0010640975&mid=shm&mode=LSD&nh=20181116124823\n",
      "'독감의 계절' 시작…16일 인플루엔자 유행주의보 발령\n",
      "https://news.naver.com/main/read.nhn?oid=032&sid1=102&aid=0002906005&mid=shm&viewType=pc&mode=LSD&nh=20181116113707\n",
      "경찰 \"'이수역 폭행', 여성이 상대남성 손 쳐서 시작\"\n",
      "https://news.naver.com/main/read.nhn?oid=001&sid1=102&aid=0010472553&mid=shm&viewType=pc&mode=LSD&nh=20181116113044\n",
      "독일·프랑스, 브렉시트 합의안 \"재협상은 없다\"\n",
      "https://news.naver.com/main/hotissue/sectionList.nhn?sid1=104&gid=1065188&mid=hot&viewType=pc&cid=334823&nh=20181116114118\n",
      "일러, 북방영토 협상 가속화…아베 \"반환해도 미군기지 안두겠다\"\n",
      "https://news.naver.com/main/read.nhn?oid=003&sid1=104&aid=0008915588&mid=shm&mode=LSD&nh=20181116113622\n",
      "조명균 \"본격 남북경협, 확실한 비핵화 진전 후 가능…北에도 지적\"\n",
      "https://news.naver.com/main/read.nhn?oid=421&sid1=100&aid=0003695482&mid=shm&mode=LSD&nh=20181116114421\n"
     ]
    }
   ],
   "source": [
    "for title in titles:\n",
    "    print(title.text) #lxml의 text_content()와 같음.\n",
    "    print(title.get_attribute('href'))"
   ]
  },
  {
   "cell_type": "code",
   "execution_count": 55,
   "metadata": {},
   "outputs": [],
   "source": [
    "##click,send,css_selctors,아 또 그리고 많이 쓰는게 wait\n",
    "browser.implicitly_wait(3) #로딩끝날때까지 최대 3초대기"
   ]
  },
  {
   "cell_type": "markdown",
   "metadata": {},
   "source": [
    "## 유저 에이젼트"
   ]
  },
  {
   "cell_type": "code",
   "execution_count": 2,
   "metadata": {},
   "outputs": [],
   "source": [
    "import requests"
   ]
  },
  {
   "cell_type": "code",
   "execution_count": 3,
   "metadata": {},
   "outputs": [
    {
     "data": {
      "text/plain": [
       "403"
      ]
     },
     "execution_count": 3,
     "metadata": {},
     "output_type": "execute_result"
    }
   ],
   "source": [
    "res = requests.get('https://onoffmix.com/')\n",
    "res.status_code"
   ]
  },
  {
   "cell_type": "code",
   "execution_count": 5,
   "metadata": {},
   "outputs": [
    {
     "data": {
      "text/plain": [
       "200"
      ]
     },
     "execution_count": 5,
     "metadata": {},
     "output_type": "execute_result"
    }
   ],
   "source": [
    "url='https://onoffmix.com/'\n",
    "res = requests.get(url, headers = {\n",
    "    'user-agent': ('Mozilla/5.0 (Windows NT 6.1) AppleWebKit/537.36 (KHTML, like Gecko) '\n",
    "                   'Chrome/41.0.2228.0 Safari/537.36')})\n",
    "res.status_code"
   ]
  },
  {
   "cell_type": "markdown",
   "metadata": {},
   "source": [
    "## 리퍼러"
   ]
  },
  {
   "cell_type": "code",
   "execution_count": 6,
   "metadata": {},
   "outputs": [],
   "source": [
    "import requests  \n",
    "import lxml.html  \n",
    "from urllib.parse import urljoin"
   ]
  },
  {
   "cell_type": "code",
   "execution_count": 7,
   "metadata": {},
   "outputs": [],
   "source": [
    "#게시판 주소를 url 이라는 변수에 저장한다.\n",
    "\n",
    "url = 'https://m.cafe.naver.com/ArticleList.nhn?search.clubid=19773565&search.menuid=142&search.boardtype=L'\n",
    "\n",
    "res = requests.get(url, params={'search.page': 1})\n",
    "#1페이지만 정보를 가져온다"
   ]
  },
  {
   "cell_type": "code",
   "execution_count": 8,
   "metadata": {},
   "outputs": [
    {
     "data": {
      "text/plain": [
       "['/ArticleRead.nhn?clubid=19773565&articleid=83172&page=1&boardtype=L&menuid=142',\n",
       " '/ArticleRead.nhn?clubid=19773565&articleid=83170&page=1&boardtype=L&menuid=142',\n",
       " '/ArticleRead.nhn?clubid=19773565&articleid=83168&page=1&boardtype=L&menuid=142',\n",
       " '/ArticleRead.nhn?clubid=19773565&articleid=83165&page=1&boardtype=L&menuid=142',\n",
       " '/ArticleRead.nhn?clubid=19773565&articleid=83163&page=1&boardtype=L&menuid=142',\n",
       " '/ArticleRead.nhn?clubid=19773565&articleid=83161&page=1&boardtype=L&menuid=142',\n",
       " '/ArticleRead.nhn?clubid=19773565&articleid=83151&page=1&boardtype=L&menuid=142',\n",
       " '/ArticleRead.nhn?clubid=19773565&articleid=83147&page=1&boardtype=L&menuid=142',\n",
       " '/ArticleRead.nhn?clubid=19773565&articleid=83145&page=1&boardtype=L&menuid=142',\n",
       " '/ArticleRead.nhn?clubid=19773565&articleid=83143&page=1&boardtype=L&menuid=142',\n",
       " '/ArticleRead.nhn?clubid=19773565&articleid=83141&page=1&boardtype=L&menuid=142',\n",
       " '/ArticleRead.nhn?clubid=19773565&articleid=83138&page=1&boardtype=L&menuid=142',\n",
       " '/ArticleRead.nhn?clubid=19773565&articleid=83135&page=1&boardtype=L&menuid=142',\n",
       " '/ArticleRead.nhn?clubid=19773565&articleid=83133&page=1&boardtype=L&menuid=142',\n",
       " '/ArticleRead.nhn?clubid=19773565&articleid=83131&page=1&boardtype=L&menuid=142',\n",
       " '/ArticleRead.nhn?clubid=19773565&articleid=83129&page=1&boardtype=L&menuid=142',\n",
       " '/ArticleRead.nhn?clubid=19773565&articleid=83127&page=1&boardtype=L&menuid=142',\n",
       " '/ArticleRead.nhn?clubid=19773565&articleid=83124&page=1&boardtype=L&menuid=142',\n",
       " '/ArticleRead.nhn?clubid=19773565&articleid=83121&page=1&boardtype=L&menuid=142',\n",
       " '/ArticleRead.nhn?clubid=19773565&articleid=83119&page=1&boardtype=L&menuid=142']"
      ]
     },
     "execution_count": 8,
     "metadata": {},
     "output_type": "execute_result"
    }
   ],
   "source": [
    "#각게시물의 url을 수집\n",
    "elements = lxml.html.fromstring(res.text) \n",
    "postings = elements.cssselect('li.board_box .txt_area')  \n",
    "href_list = [a.attrib['href'] for a in postings]\n",
    "href_list"
   ]
  },
  {
   "cell_type": "code",
   "execution_count": 9,
   "metadata": {},
   "outputs": [],
   "source": [
    "#https://m.search.naver.com 뒤에 search.naver?query=1 부분을 referer에 넘겨주면, \n",
    "#네이버 검색을 통한 유입이라고 흉내내면서 자료를 요청을 할 수 있다.\n",
    "#referer를 headers라는 변수에 dictionary 형태로 저장한다."
   ]
  },
  {
   "cell_type": "code",
   "execution_count": 10,
   "metadata": {},
   "outputs": [],
   "source": [
    "titles = []\n",
    "contents = []\n",
    "headers = {'Referer': 'https://m.search.naver.com/search.naver?query=1'}\n",
    "for href in href_list:\n",
    "    res = requests.get(urljoin(url, href), headers=headers)  \n",
    "    element = lxml.html.fromstring(res.text)\n",
    "    try:\n",
    "        titles.append(element.cssselect('h2.tit')[0].text_content())\n",
    "        contents.append(element.cssselect('div#postContent')[0].text_content())\n",
    "    except IndexError:\n",
    "        continue"
   ]
  },
  {
   "cell_type": "code",
   "execution_count": 12,
   "metadata": {},
   "outputs": [
    {
     "data": {
      "text/plain": [
       "['등업부탁드립니다',\n",
       " '등업요청합니다',\n",
       " '등업부탁드립니다!',\n",
       " '등업요청 드립니다.',\n",
       " '등업요청드립니다.',\n",
       " '등업요청합니다.',\n",
       " '등업요청합니다',\n",
       " '등업요청 합니다.',\n",
       " '등업요청합니다',\n",
       " '등업요청',\n",
       " '등업요청드립니다.',\n",
       " '등업요청 합니다',\n",
       " '등업부탁드려요~',\n",
       " '등업요청합니다',\n",
       " '등업 요청합니다',\n",
       " '등업요청합니다!',\n",
       " '등업요청']"
      ]
     },
     "execution_count": 12,
     "metadata": {},
     "output_type": "execute_result"
    }
   ],
   "source": [
    "titles"
   ]
  },
  {
   "cell_type": "markdown",
   "metadata": {},
   "source": [
    "## POST방식"
   ]
  },
  {
   "cell_type": "code",
   "execution_count": 13,
   "metadata": {},
   "outputs": [],
   "source": [
    "#국토교통부 실거래가 사이트"
   ]
  },
  {
   "cell_type": "code",
   "execution_count": 14,
   "metadata": {},
   "outputs": [],
   "source": [
    "url = 'http://rt.molit.go.kr/new/gis/getDanjiComboAjax.do'  # Request URL 항목을 복사해서 붙여넣는다\n"
   ]
  },
  {
   "cell_type": "code",
   "execution_count": 23,
   "metadata": {},
   "outputs": [],
   "source": [
    "data = {  # Form Data의 내용을 복사해서 붙여넣고 딕셔너리 형태로 정리한다\n",
    "    'menuGubun': 'A',\n",
    "    'srhYear': 2019,\n",
    "    'gubunCode': 'LAND',\n",
    "    'sidoCode': 11,\n",
    "    'gugunCode': 11680,\n",
    "    'dongCode': 1168010300,\n",
    "    'rentAmtType': 3,\n",
    "}"
   ]
  },
  {
   "cell_type": "code",
   "execution_count": 24,
   "metadata": {},
   "outputs": [
    {
     "data": {
      "text/plain": [
       "'{\"jsonList\":null}'"
      ]
     },
     "execution_count": 24,
     "metadata": {},
     "output_type": "execute_result"
    }
   ],
   "source": [
    "#실제로 접속해서 내용을 가져온다\n",
    "\n",
    "import requests\n",
    "res = requests.post(url, data=data)\n",
    "res.text\n"
   ]
  },
  {
   "cell_type": "code",
   "execution_count": 25,
   "metadata": {},
   "outputs": [
    {
     "data": {
      "text/plain": [
       "{'jsonList': None}"
      ]
     },
     "execution_count": 25,
     "metadata": {},
     "output_type": "execute_result"
    }
   ],
   "source": [
    "res.json() #json형태로 변행해준다"
   ]
  },
  {
   "cell_type": "code",
   "execution_count": 26,
   "metadata": {},
   "outputs": [],
   "source": [
    "es = requests.post(url, data=data,\n",
    "                    headers={'Referer': 'http://rt.molit.go.kr/new/gis/srh.do?menuGubun=A&gubunCode=LAND'})"
   ]
  },
  {
   "cell_type": "code",
   "execution_count": 27,
   "metadata": {},
   "outputs": [],
   "source": [
    "#왜 리퍼러를?\n",
    "#국토교통부 실거래가 공개시스템은 검색 페이지를\n",
    "#거쳐서 가격 정보를 요청할 때만 정보를 제공한다. "
   ]
  },
  {
   "cell_type": "code",
   "execution_count": 28,
   "metadata": {},
   "outputs": [],
   "source": [
    "price = res.json()\n"
   ]
  },
  {
   "cell_type": "code",
   "execution_count": 31,
   "metadata": {},
   "outputs": [],
   "source": [
    "price['jsonList']"
   ]
  },
  {
   "cell_type": "code",
   "execution_count": null,
   "metadata": {},
   "outputs": [],
   "source": []
  }
 ],
 "metadata": {
  "kernelspec": {
   "display_name": "Python 3",
   "language": "python",
   "name": "python3"
  },
  "language_info": {
   "codemirror_mode": {
    "name": "ipython",
    "version": 3
   },
   "file_extension": ".py",
   "mimetype": "text/x-python",
   "name": "python",
   "nbconvert_exporter": "python",
   "pygments_lexer": "ipython3",
   "version": "3.6.5"
  }
 },
 "nbformat": 4,
 "nbformat_minor": 2
}

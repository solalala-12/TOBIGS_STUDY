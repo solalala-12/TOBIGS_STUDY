{
 "cells": [
  {
   "cell_type": "code",
   "execution_count": 43,
   "metadata": {},
   "outputs": [],
   "source": [
    "import re\n",
    "import pandas as pd"
   ]
  },
  {
   "cell_type": "code",
   "execution_count": 2,
   "metadata": {},
   "outputs": [],
   "source": [
    "data=\"202h오112-2131-3256늘점0-2352-1235심은22 t9고등2263-3253-1231어03 !t&?2 56지금p22:시45ㄱ9ㅏㄴ2/@52-2345-1231@#5은039새/65w4432@3474-5432-1567#!&w34w2.2d 45032a 343t23ㅂ5ㅕ43ㄷa 3ㅏ596ㅅ40ㅓmㅅ23시a786 r343 2k4 08너521-2354-1234e  11ㅁt6ㅜ.6 008k2ㅁ7423-1234-1632r5ㅜ/22졸x55e1ㄹ23/@512-4346-8521b3ㅕ45o6467흑a@@r53ㅠd_354704j232P211W32Y2315\""
   ]
  },
  {
   "cell_type": "code",
   "execution_count": 94,
   "metadata": {},
   "outputs": [
    {
     "name": "stdout",
     "output_type": "stream",
     "text": [
      "오늘점심은고등어지금시은새시너졸흑\n"
     ]
    }
   ],
   "source": [
    "#한글만 추출\n",
    "p=re.compile('[가-힣]')\n",
    "three=(p.findall(data))\n",
    "print (\"\".join(three))"
   ]
  },
  {
   "cell_type": "code",
   "execution_count": 125,
   "metadata": {},
   "outputs": [
    {
     "name": "stdout",
     "output_type": "stream",
     "text": [
      "http://www.datamarket.kr/xe/boardjPWY\n"
     ]
    }
   ],
   "source": [
    "#  ./-: 와 알파벳만 추출\n",
    "# \n",
    "p = re.compile('[A-Za-z./:]+')\n",
    "one=p.findall(data)\n",
    "one=\"\".join(one)\n",
    "print (\"\".join(one))\n"
   ]
  },
  {
   "cell_type": "code",
   "execution_count": 109,
   "metadata": {
    "scrolled": true
   },
   "outputs": [
    {
     "data": {
      "text/plain": [
       "['112-2131-3256',\n",
       " '2263-3253-1231',\n",
       " '52-2345-1231',\n",
       " '3474-5432-1567',\n",
       " '521-2354-1234',\n",
       " '7423-1234-1632',\n",
       " '512-4346-8521']"
      ]
     },
     "execution_count": 109,
     "metadata": {},
     "output_type": "execute_result"
    }
   ],
   "source": [
    "# d는 0-9 숫자를 의미 {} 사이의 값은 자릿수 \n",
    "p=re.compile('\\d{2,4}-\\d{4}-\\d{4}')\n",
    "two=p.findall(data)\n",
    "two"
   ]
  },
  {
   "cell_type": "code",
   "execution_count": 114,
   "metadata": {},
   "outputs": [],
   "source": [
    "# 첫글자만 가져오기!\n",
    "store=[]\n",
    "j=0\n",
    "for i in two:\n",
    "    store.append(i[0])\n",
    "    if(j==1):\n",
    "        store.append('/')\n",
    "    j=j+1\n",
    "    \n"
   ]
  },
  {
   "cell_type": "code",
   "execution_count": 117,
   "metadata": {},
   "outputs": [],
   "source": [
    "result=\"\".join(store)"
   ]
  },
  {
   "cell_type": "code",
   "execution_count": 128,
   "metadata": {},
   "outputs": [
    {
     "data": {
      "text/plain": [
       "'http://www.datamarket.kr/xe/boardjPWY12/53575'"
      ]
     },
     "execution_count": 128,
     "metadata": {},
     "output_type": "execute_result"
    }
   ],
   "source": [
    "one+result"
   ]
  },
  {
   "cell_type": "code",
   "execution_count": null,
   "metadata": {},
   "outputs": [],
   "source": []
  }
 ],
 "metadata": {
  "kernelspec": {
   "display_name": "Python 3",
   "language": "python",
   "name": "python3"
  },
  "language_info": {
   "codemirror_mode": {
    "name": "ipython",
    "version": 3
   },
   "file_extension": ".py",
   "mimetype": "text/x-python",
   "name": "python",
   "nbconvert_exporter": "python",
   "pygments_lexer": "ipython3",
   "version": "3.6.5"
  }
 },
 "nbformat": 4,
 "nbformat_minor": 2
}

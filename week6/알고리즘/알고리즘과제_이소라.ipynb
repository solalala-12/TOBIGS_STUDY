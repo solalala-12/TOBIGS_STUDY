{
 "cells": [
  {
   "cell_type": "code",
   "execution_count": 1,
   "metadata": {},
   "outputs": [],
   "source": [
    "import numpy as np\n",
    "import pandas as pd\n",
    "from tqdm import trange\n",
    "from tqdm import tqdm\n",
    "import time"
   ]
  },
  {
   "cell_type": "code",
   "execution_count": 2,
   "metadata": {},
   "outputs": [],
   "source": [
    "data=pd.read_csv(\"group_call_HMS.csv\")"
   ]
  },
  {
   "cell_type": "code",
   "execution_count": 3,
   "metadata": {},
   "outputs": [
    {
     "name": "stdout",
     "output_type": "stream",
     "text": [
      "<class 'pandas.core.frame.DataFrame'>\n",
      "RangeIndex: 6962341 entries, 0 to 6962340\n",
      "Data columns (total 5 columns):\n",
      "call_start_day     int64\n",
      "call_start_time    object\n",
      "call_end_day       int64\n",
      "call_end_time      object\n",
      "hashed             object\n",
      "dtypes: int64(2), object(3)\n",
      "memory usage: 265.6+ MB\n"
     ]
    }
   ],
   "source": [
    "data.info()"
   ]
  },
  {
   "cell_type": "code",
   "execution_count": 4,
   "metadata": {},
   "outputs": [
    {
     "data": {
      "text/plain": [
       "6962341"
      ]
     },
     "execution_count": 4,
     "metadata": {},
     "output_type": "execute_result"
    }
   ],
   "source": [
    "len(data)"
   ]
  },
  {
   "cell_type": "code",
   "execution_count": null,
   "metadata": {},
   "outputs": [],
   "source": []
  },
  {
   "cell_type": "markdown",
   "metadata": {},
   "source": [
    "### 총 통화 횟수, 총 통화 시간, 평균 통화 시간, 총 통화한 인원수, 1회 통화에 참여한 평균 인원수"
   ]
  },
  {
   "cell_type": "code",
   "execution_count": 5,
   "metadata": {},
   "outputs": [],
   "source": [
    "# 시간을 초로 계산 (연산 편하게 하기 위해 ) 시*3600,분 60, 초\n",
    "def time_sec(timestr):\n",
    "    sec=int(timestr[:2])*3600+int(timestr[3:5])*60+int(timestr[6:8])\n",
    "    return sec\n"
   ]
  },
  {
   "cell_type": "markdown",
   "metadata": {},
   "source": [
    "## - 통화시간 탐색할 generator"
   ]
  },
  {
   "cell_type": "code",
   "execution_count": 6,
   "metadata": {},
   "outputs": [],
   "source": [
    "time_gap_sec=(time_sec(end)-time_sec(start) if (end_day-start_day)==0\n",
    "             else (end_day-start_day)*3600*24-(time_sec(end)-time_sec(start))\n",
    "             for end, start, end_day, start_day in zip(data.call_end_time, data.call_start_time,\n",
    "                                                      data.call_end_day,data.call_start_day))"
   ]
  },
  {
   "cell_type": "code",
   "execution_count": 7,
   "metadata": {},
   "outputs": [
    {
     "data": {
      "text/plain": [
       "<generator object <genexpr> at 0x0000019A64E92EB8>"
      ]
     },
     "execution_count": 7,
     "metadata": {},
     "output_type": "execute_result"
    }
   ],
   "source": [
    "time_gap_sec"
   ]
  },
  {
   "cell_type": "code",
   "execution_count": 8,
   "metadata": {},
   "outputs": [
    {
     "name": "stderr",
     "output_type": "stream",
     "text": [
      "100%|████████████████████████████████████████████████████████████████████| 6962341/6962341 [00:44<00:00, 157292.42it/s]\n"
     ]
    }
   ],
   "source": [
    "time_gap_list=[]\n",
    "for i in trange(len(data)):\n",
    "    iterator_time=next(time_gap_sec)\n",
    "    time_gap_list.append(iterator_time)\n",
    "    "
   ]
  },
  {
   "cell_type": "code",
   "execution_count": 9,
   "metadata": {},
   "outputs": [
    {
     "name": "stdout",
     "output_type": "stream",
     "text": [
      "<generator object <genexpr> at 0x0000019A000596D0>\n"
     ]
    }
   ],
   "source": [
    "# generator 생성\n",
    "hash_list=(i for i in data['hashed'])\n",
    "print(hash_list)"
   ]
  },
  {
   "cell_type": "code",
   "execution_count": 10,
   "metadata": {},
   "outputs": [
    {
     "name": "stderr",
     "output_type": "stream",
     "text": [
      "100%|████████████████████████████████████████████████████████████████████| 6962341/6962341 [00:19<00:00, 355192.56it/s]\n"
     ]
    }
   ],
   "source": [
    "#통화한 사람 수 => hash_list의 ,으로 구분된 길이\n",
    "num_people_list=[]\n",
    "for i in trange(len(data)):\n",
    "    iterator_nump=next(hash_list)\n",
    "    #print(iterator_nump)\n",
    "    num=len(iterator_nump.split(','))\n",
    "    num_people_list.append(num)\n",
    "    "
   ]
  },
  {
   "cell_type": "code",
   "execution_count": 11,
   "metadata": {},
   "outputs": [
    {
     "data": {
      "text/plain": [
       "6962341"
      ]
     },
     "execution_count": 11,
     "metadata": {},
     "output_type": "execute_result"
    }
   ],
   "source": [
    "len(num_people_list)"
   ]
  },
  {
   "cell_type": "code",
   "execution_count": 12,
   "metadata": {},
   "outputs": [],
   "source": [
    "# 한개의 call 당 통화한 사람 수 \n",
    "data['num_people']=num_people_list\n",
    "#한개의 call당 통화시간 \n",
    "data['time_gap']=time_gap_list\n",
    "# 한개의 call당 평균 통화시간 \n",
    "data['each_call_mean']=(np.array(time_gap_list)/np.array(num_people_list))"
   ]
  },
  {
   "cell_type": "code",
   "execution_count": 13,
   "metadata": {},
   "outputs": [
    {
     "data": {
      "text/html": [
       "<div>\n",
       "<style scoped>\n",
       "    .dataframe tbody tr th:only-of-type {\n",
       "        vertical-align: middle;\n",
       "    }\n",
       "\n",
       "    .dataframe tbody tr th {\n",
       "        vertical-align: top;\n",
       "    }\n",
       "\n",
       "    .dataframe thead th {\n",
       "        text-align: right;\n",
       "    }\n",
       "</style>\n",
       "<table border=\"1\" class=\"dataframe\">\n",
       "  <thead>\n",
       "    <tr style=\"text-align: right;\">\n",
       "      <th></th>\n",
       "      <th>call_start_day</th>\n",
       "      <th>call_start_time</th>\n",
       "      <th>call_end_day</th>\n",
       "      <th>call_end_time</th>\n",
       "      <th>hashed</th>\n",
       "      <th>num_people</th>\n",
       "      <th>time_gap</th>\n",
       "      <th>each_call_mean</th>\n",
       "    </tr>\n",
       "  </thead>\n",
       "  <tbody>\n",
       "    <tr>\n",
       "      <th>0</th>\n",
       "      <td>1</td>\n",
       "      <td>09:14:58.558</td>\n",
       "      <td>1</td>\n",
       "      <td>09:41:30.200</td>\n",
       "      <td>967393e81d99ce8e577ee130b7ce8e4fd45e3e9cecb560...</td>\n",
       "      <td>3</td>\n",
       "      <td>1592</td>\n",
       "      <td>530.666667</td>\n",
       "    </tr>\n",
       "    <tr>\n",
       "      <th>1</th>\n",
       "      <td>17</td>\n",
       "      <td>11:05:05.176</td>\n",
       "      <td>17</td>\n",
       "      <td>13:07:42.515</td>\n",
       "      <td>02181a0c962f34f019bc9d5b582fb0ec79b1441f96aa4d...</td>\n",
       "      <td>5</td>\n",
       "      <td>7357</td>\n",
       "      <td>1471.400000</td>\n",
       "    </tr>\n",
       "  </tbody>\n",
       "</table>\n",
       "</div>"
      ],
      "text/plain": [
       "   call_start_day call_start_time  call_end_day call_end_time  \\\n",
       "0               1    09:14:58.558             1  09:41:30.200   \n",
       "1              17    11:05:05.176            17  13:07:42.515   \n",
       "\n",
       "                                              hashed  num_people  time_gap  \\\n",
       "0  967393e81d99ce8e577ee130b7ce8e4fd45e3e9cecb560...           3      1592   \n",
       "1  02181a0c962f34f019bc9d5b582fb0ec79b1441f96aa4d...           5      7357   \n",
       "\n",
       "   each_call_mean  \n",
       "0      530.666667  \n",
       "1     1471.400000  "
      ]
     },
     "execution_count": 13,
     "metadata": {},
     "output_type": "execute_result"
    }
   ],
   "source": [
    "#한개의 call당 통화수, 통화시간, 한사람당 평균 통화시간\n",
    "data[:2]"
   ]
  },
  {
   "cell_type": "code",
   "execution_count": 14,
   "metadata": {},
   "outputs": [],
   "source": [
    "new_data=data[['hashed','num_people','time_gap','each_call_mean']]"
   ]
  },
  {
   "cell_type": "code",
   "execution_count": 15,
   "metadata": {
    "scrolled": true
   },
   "outputs": [
    {
     "data": {
      "text/plain": [
       "3"
      ]
     },
     "execution_count": 15,
     "metadata": {},
     "output_type": "execute_result"
    }
   ],
   "source": [
    "len(str(new_data['hashed'][0]).split(','))"
   ]
  },
  {
   "cell_type": "markdown",
   "metadata": {},
   "source": [
    "# 개개인의 data를 뽑아내기 위해 data 에서 hashed를 개개인으로 해체한다!"
   ]
  },
  {
   "cell_type": "code",
   "execution_count": 16,
   "metadata": {},
   "outputs": [],
   "source": [
    "# 각 칼럼의 generator 생성\n",
    "new_hash_list=(i for i in new_data.hashed)\n",
    "new_num_people=(i for i in new_data.num_people)\n",
    "new_time_gap=(i for i in new_data.time_gap)"
   ]
  },
  {
   "cell_type": "code",
   "execution_count": 17,
   "metadata": {},
   "outputs": [],
   "source": [
    "name_list=[]\n",
    "num_people=[]\n",
    "time_gap=[]"
   ]
  },
  {
   "cell_type": "code",
   "execution_count": 18,
   "metadata": {},
   "outputs": [
    {
     "name": "stderr",
     "output_type": "stream",
     "text": [
      "100%|████████████████████████████████████████████████████████████████████| 6962341/6962341 [01:04<00:00, 107875.65it/s]\n"
     ]
    }
   ],
   "source": [
    "\n",
    "for i in trange(len(new_data)):\n",
    "    iterator_hash=next(new_hash_list)\n",
    "    iterator_npeople=next(new_num_people)\n",
    "    iterator_tgap=next(new_time_gap)\n",
    "    # 한사람씩 접근하는 iterator 생성\n",
    "    iterator_persons=(i for i in iterator_hash.split(','))\n",
    "    for j in iterator_persons:\n",
    "        #print(j,'\\n')\n",
    "        # 같은 hashed에 있으면 (한 call)당 나머지 칼럼의 내용은 같게 한다. \n",
    "        name_list.append(j)\n",
    "        num_people.append(iterator_npeople)\n",
    "        time_gap.append(iterator_tgap)\n",
    "    \n",
    "    "
   ]
  },
  {
   "cell_type": "code",
   "execution_count": 19,
   "metadata": {},
   "outputs": [],
   "source": [
    "each_data=pd.DataFrame({'name_list':name_list,'num_people':num_people,'time_gap':time_gap})"
   ]
  },
  {
   "cell_type": "code",
   "execution_count": 20,
   "metadata": {},
   "outputs": [],
   "source": [
    "each_data['num_people']=each_data['num_people'].astype(int)\n",
    "each_data['time_gap']=each_data['time_gap'].astype(float)"
   ]
  },
  {
   "cell_type": "code",
   "execution_count": 21,
   "metadata": {},
   "outputs": [],
   "source": [
    "#name_list기준 num_people합계\n",
    "#총 통화 인원수가 될지어다\n",
    "df=each_data.groupby('name_list')['num_people'].sum().to_frame()\n",
    "df=df.join(each_data['name_list'].value_counts())\n",
    "# 총 통화시간이 될지어다\n",
    "df=df.join(each_data.groupby('name_list')['time_gap'].sum())"
   ]
  },
  {
   "cell_type": "code",
   "execution_count": 22,
   "metadata": {},
   "outputs": [],
   "source": [
    "df.columns=['count_call_people','count_call','sum_time']\n"
   ]
  },
  {
   "cell_type": "code",
   "execution_count": 23,
   "metadata": {},
   "outputs": [],
   "source": [
    "df['mean_time']=df['sum_time']/df['count_call']\n",
    "\n",
    "df['mean_people']=df['count_call_people']/df['count_call']\n",
    "\n",
    "df['mean_people']=df['mean_people'].astype(int)\n",
    "\n"
   ]
  },
  {
   "cell_type": "code",
   "execution_count": 24,
   "metadata": {},
   "outputs": [
    {
     "data": {
      "text/html": [
       "<div>\n",
       "<style scoped>\n",
       "    .dataframe tbody tr th:only-of-type {\n",
       "        vertical-align: middle;\n",
       "    }\n",
       "\n",
       "    .dataframe tbody tr th {\n",
       "        vertical-align: top;\n",
       "    }\n",
       "\n",
       "    .dataframe thead th {\n",
       "        text-align: right;\n",
       "    }\n",
       "</style>\n",
       "<table border=\"1\" class=\"dataframe\">\n",
       "  <thead>\n",
       "    <tr style=\"text-align: right;\">\n",
       "      <th></th>\n",
       "      <th>count_call_people</th>\n",
       "      <th>count_call</th>\n",
       "      <th>sum_time</th>\n",
       "      <th>mean_time</th>\n",
       "      <th>mean_people</th>\n",
       "    </tr>\n",
       "    <tr>\n",
       "      <th>name_list</th>\n",
       "      <th></th>\n",
       "      <th></th>\n",
       "      <th></th>\n",
       "      <th></th>\n",
       "      <th></th>\n",
       "    </tr>\n",
       "  </thead>\n",
       "  <tbody>\n",
       "    <tr>\n",
       "      <th>000020b4fa2af1e40c813436e5054bce70b703d0039dcdad4ccb5b287c3fadbc</th>\n",
       "      <td>6370</td>\n",
       "      <td>1049</td>\n",
       "      <td>6317819.0</td>\n",
       "      <td>6022.706387</td>\n",
       "      <td>6</td>\n",
       "    </tr>\n",
       "    <tr>\n",
       "      <th>0000264b01392acfde44f9d8494f112a701dc5d3e5fda6ad090cb205727637e0</th>\n",
       "      <td>3625</td>\n",
       "      <td>777</td>\n",
       "      <td>4308817.0</td>\n",
       "      <td>5545.453024</td>\n",
       "      <td>4</td>\n",
       "    </tr>\n",
       "    <tr>\n",
       "      <th>00006916672106f94f68d18e4a0532b53a40f4549d3a62f0cbf677dd25803668</th>\n",
       "      <td>48</td>\n",
       "      <td>9</td>\n",
       "      <td>4183.0</td>\n",
       "      <td>464.777778</td>\n",
       "      <td>5</td>\n",
       "    </tr>\n",
       "    <tr>\n",
       "      <th>0000988c5778e9d6a861fee8fbfd88ec2fdc9108c1acd6d9c0b4d51637787b37</th>\n",
       "      <td>224</td>\n",
       "      <td>37</td>\n",
       "      <td>193470.0</td>\n",
       "      <td>5228.918919</td>\n",
       "      <td>6</td>\n",
       "    </tr>\n",
       "  </tbody>\n",
       "</table>\n",
       "</div>"
      ],
      "text/plain": [
       "                                                    count_call_people  \\\n",
       "name_list                                                               \n",
       "000020b4fa2af1e40c813436e5054bce70b703d0039dcda...               6370   \n",
       "0000264b01392acfde44f9d8494f112a701dc5d3e5fda6a...               3625   \n",
       "00006916672106f94f68d18e4a0532b53a40f4549d3a62f...                 48   \n",
       "0000988c5778e9d6a861fee8fbfd88ec2fdc9108c1acd6d...                224   \n",
       "\n",
       "                                                    count_call   sum_time  \\\n",
       "name_list                                                                   \n",
       "000020b4fa2af1e40c813436e5054bce70b703d0039dcda...        1049  6317819.0   \n",
       "0000264b01392acfde44f9d8494f112a701dc5d3e5fda6a...         777  4308817.0   \n",
       "00006916672106f94f68d18e4a0532b53a40f4549d3a62f...           9     4183.0   \n",
       "0000988c5778e9d6a861fee8fbfd88ec2fdc9108c1acd6d...          37   193470.0   \n",
       "\n",
       "                                                      mean_time  mean_people  \n",
       "name_list                                                                     \n",
       "000020b4fa2af1e40c813436e5054bce70b703d0039dcda...  6022.706387            6  \n",
       "0000264b01392acfde44f9d8494f112a701dc5d3e5fda6a...  5545.453024            4  \n",
       "00006916672106f94f68d18e4a0532b53a40f4549d3a62f...   464.777778            5  \n",
       "0000988c5778e9d6a861fee8fbfd88ec2fdc9108c1acd6d...  5228.918919            6  "
      ]
     },
     "execution_count": 24,
     "metadata": {},
     "output_type": "execute_result"
    }
   ],
   "source": [
    "df[:4]"
   ]
  }
 ],
 "metadata": {
  "kernelspec": {
   "display_name": "Python 3",
   "language": "python",
   "name": "python3"
  },
  "language_info": {
   "codemirror_mode": {
    "name": "ipython",
    "version": 3
   },
   "file_extension": ".py",
   "mimetype": "text/x-python",
   "name": "python",
   "nbconvert_exporter": "python",
   "pygments_lexer": "ipython3",
   "version": "3.6.5"
  }
 },
 "nbformat": 4,
 "nbformat_minor": 2
}

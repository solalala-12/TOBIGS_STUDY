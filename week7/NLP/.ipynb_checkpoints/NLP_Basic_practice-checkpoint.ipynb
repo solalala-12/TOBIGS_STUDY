{
 "cells": [
  {
   "cell_type": "markdown",
   "metadata": {},
   "source": [
    "# NLP Basic 실습"
   ]
  },
  {
   "cell_type": "code",
   "execution_count": 1,
   "metadata": {},
   "outputs": [],
   "source": [
    "import numpy as np\n",
    "import pandas as pd\n",
    "# !pip3 install KoNLPy"
   ]
  },
  {
   "cell_type": "code",
   "execution_count": 2,
   "metadata": {},
   "outputs": [],
   "source": [
    "from konlpy.tag import *"
   ]
  },
  {
   "cell_type": "code",
   "execution_count": 3,
   "metadata": {},
   "outputs": [
    {
     "name": "stderr",
     "output_type": "stream",
     "text": [
      "C:\\Users\\sora\\Anaconda3\\lib\\site-packages\\konlpy\\tag\\_okt.py:16: UserWarning: \"Twitter\" has changed to \"Okt\" since KoNLPy v0.4.5.\n",
      "  warn('\"Twitter\" has changed to \"Okt\" since KoNLPy v0.4.5.')\n"
     ]
    }
   ],
   "source": [
    "twitter = Twitter()\n",
    "komoran = Komoran()\n",
    "kkma = Kkma()\n",
    "# mecab = Mecab()\n",
    "# hannanum = Hannanum()"
   ]
  },
  {
   "cell_type": "code",
   "execution_count": 4,
   "metadata": {},
   "outputs": [],
   "source": [
    "text = \"해질 무렵 바람도 몹시 불던 날 집에 돌아오는 길 버스 창가에 앉아\""
   ]
  },
  {
   "cell_type": "markdown",
   "metadata": {},
   "source": [
    "## 명사 추출"
   ]
  },
  {
   "cell_type": "code",
   "execution_count": 5,
   "metadata": {},
   "outputs": [
    {
     "data": {
      "text/plain": [
       "['무렵', '바람', '몹시', '날', '집', '길', '버스', '창가']"
      ]
     },
     "execution_count": 5,
     "metadata": {},
     "output_type": "execute_result"
    }
   ],
   "source": [
    "twitter.nouns(text)"
   ]
  },
  {
   "cell_type": "code",
   "execution_count": 6,
   "metadata": {},
   "outputs": [
    {
     "data": {
      "text/plain": [
       "['무렵', '바람', '날', '집', '돌아오는 길', '버스', '창가']"
      ]
     },
     "execution_count": 6,
     "metadata": {},
     "output_type": "execute_result"
    }
   ],
   "source": [
    "komoran.nouns(text)"
   ]
  },
  {
   "cell_type": "code",
   "execution_count": 7,
   "metadata": {},
   "outputs": [
    {
     "data": {
      "text/plain": [
       "['무렵', '바람', '불', '날', '집', '길', '버스', '창가']"
      ]
     },
     "execution_count": 7,
     "metadata": {},
     "output_type": "execute_result"
    }
   ],
   "source": [
    "kkma.nouns(text)"
   ]
  },
  {
   "cell_type": "markdown",
   "metadata": {},
   "source": [
    "## 형태소 추출"
   ]
  },
  {
   "cell_type": "code",
   "execution_count": 8,
   "metadata": {},
   "outputs": [
    {
     "data": {
      "text/plain": [
       "['해질',\n",
       " '무렵',\n",
       " '바람',\n",
       " '도',\n",
       " '몹시',\n",
       " '불던',\n",
       " '날',\n",
       " '집',\n",
       " '에',\n",
       " '돌아오는',\n",
       " '길',\n",
       " '버스',\n",
       " '창가',\n",
       " '에',\n",
       " '앉아']"
      ]
     },
     "execution_count": 8,
     "metadata": {},
     "output_type": "execute_result"
    }
   ],
   "source": [
    "twitter.morphs(text)"
   ]
  },
  {
   "cell_type": "code",
   "execution_count": 9,
   "metadata": {},
   "outputs": [
    {
     "data": {
      "text/plain": [
       "['해지',\n",
       " 'ㄹ',\n",
       " '무렵',\n",
       " '바람',\n",
       " '도',\n",
       " '몹시',\n",
       " '불',\n",
       " '던',\n",
       " '날',\n",
       " '집',\n",
       " '에',\n",
       " '돌아오는 길',\n",
       " '버스',\n",
       " '창가',\n",
       " '에',\n",
       " '앉',\n",
       " '아']"
      ]
     },
     "execution_count": 9,
     "metadata": {},
     "output_type": "execute_result"
    }
   ],
   "source": [
    "komoran.morphs(text)"
   ]
  },
  {
   "cell_type": "code",
   "execution_count": 10,
   "metadata": {},
   "outputs": [
    {
     "data": {
      "text/plain": [
       "['해지',\n",
       " 'ㄹ',\n",
       " '무렵',\n",
       " '바람',\n",
       " '도',\n",
       " '몹시',\n",
       " '불',\n",
       " '덜',\n",
       " 'ㄴ',\n",
       " '날',\n",
       " '집',\n",
       " '에',\n",
       " '돌아오',\n",
       " '는',\n",
       " '길',\n",
       " '버스',\n",
       " '창가',\n",
       " '에',\n",
       " '앉',\n",
       " '아']"
      ]
     },
     "execution_count": 10,
     "metadata": {},
     "output_type": "execute_result"
    }
   ],
   "source": [
    "kkma.morphs(text)"
   ]
  },
  {
   "cell_type": "markdown",
   "metadata": {},
   "source": [
    "## 형태소 품사 태깅"
   ]
  },
  {
   "cell_type": "code",
   "execution_count": 11,
   "metadata": {},
   "outputs": [
    {
     "data": {
      "text/plain": [
       "[('해질', 'Verb'),\n",
       " ('무렵', 'Noun'),\n",
       " ('바람', 'Noun'),\n",
       " ('도', 'Josa'),\n",
       " ('몹시', 'Noun'),\n",
       " ('불던', 'Verb'),\n",
       " ('날', 'Noun'),\n",
       " ('집', 'Noun'),\n",
       " ('에', 'Josa'),\n",
       " ('돌아오는', 'Verb'),\n",
       " ('길', 'Noun'),\n",
       " ('버스', 'Noun'),\n",
       " ('창가', 'Noun'),\n",
       " ('에', 'Josa'),\n",
       " ('앉아', 'Verb')]"
      ]
     },
     "execution_count": 11,
     "metadata": {},
     "output_type": "execute_result"
    }
   ],
   "source": [
    "twitter.pos(text)"
   ]
  },
  {
   "cell_type": "code",
   "execution_count": 12,
   "metadata": {},
   "outputs": [
    {
     "data": {
      "text/plain": [
       "[('해지', 'VV'),\n",
       " ('ㄹ', 'ETM'),\n",
       " ('무렵', 'NNB'),\n",
       " ('바람', 'NNG'),\n",
       " ('도', 'JX'),\n",
       " ('몹시', 'MAG'),\n",
       " ('불', 'VV'),\n",
       " ('던', 'ETM'),\n",
       " ('날', 'NNG'),\n",
       " ('집', 'NNG'),\n",
       " ('에', 'JKB'),\n",
       " ('돌아오는 길', 'NNP'),\n",
       " ('버스', 'NNP'),\n",
       " ('창가', 'NNP'),\n",
       " ('에', 'JKB'),\n",
       " ('앉', 'VV'),\n",
       " ('아', 'EC')]"
      ]
     },
     "execution_count": 12,
     "metadata": {},
     "output_type": "execute_result"
    }
   ],
   "source": [
    "komoran.pos(text)"
   ]
  },
  {
   "cell_type": "code",
   "execution_count": 13,
   "metadata": {},
   "outputs": [
    {
     "data": {
      "text/plain": [
       "[('해지', 'VV'),\n",
       " ('ㄹ', 'ETD'),\n",
       " ('무렵', 'NNB'),\n",
       " ('바람', 'NNG'),\n",
       " ('도', 'JX'),\n",
       " ('몹시', 'MAG'),\n",
       " ('불', 'NNG'),\n",
       " ('덜', 'VV'),\n",
       " ('ㄴ', 'ETD'),\n",
       " ('날', 'NNG'),\n",
       " ('집', 'NNG'),\n",
       " ('에', 'JKM'),\n",
       " ('돌아오', 'VV'),\n",
       " ('는', 'ETD'),\n",
       " ('길', 'NNG'),\n",
       " ('버스', 'NNG'),\n",
       " ('창가', 'NNG'),\n",
       " ('에', 'JKM'),\n",
       " ('앉', 'VV'),\n",
       " ('아', 'ECD')]"
      ]
     },
     "execution_count": 13,
     "metadata": {},
     "output_type": "execute_result"
    }
   ],
   "source": [
    "kkma.pos(text)"
   ]
  },
  {
   "cell_type": "markdown",
   "metadata": {},
   "source": [
    "# Word Embedding"
   ]
  },
  {
   "cell_type": "code",
   "execution_count": 14,
   "metadata": {},
   "outputs": [],
   "source": [
    "text = \"\"\"반복돼 오늘도 이렇게\n",
    "힘겨운 스물네 시간\n",
    "반복돼 오늘도 머릿속엔\n",
    "온통 너라는 사람\n",
    "또 반복해 오늘도 너에게\n",
    "하지 못한 말\n",
    "수없이 반복해 나도 모르게\n",
    "너와 함께 듣던 이 노래\n",
    "마지막까지 날 걱정해주던\n",
    "니 눈빛 잘 알아\n",
    "그만큼 우리 미치도록 사랑했잖아\n",
    "늘 안쓰러워하던 그 날들이 지나가면\n",
    "이젠 너도 맘 아플 일 없을 거니까\n",
    "흔들리지마 이젠 나는 괜찮아\n",
    "너도 이젠 너의 갈길\n",
    "그대로 그냥 가면 돼\n",
    "내가 널 놓을 수 있게\n",
    "너도 그냥 날 놓아주면 돼\n",
    "아픈 기억들만 내게 두고 제발 가\n",
    "반복돼 오늘도 이렇게\n",
    "멍청히 하루가\n",
    "또 반복해 나도 모르게\n",
    "너와 함께 듣던 이 노래\n",
    "마지막까지 날 위로해주던\n",
    "니 눈물 잘 알아\n",
    "그만큼 우리 미치도록 힘들었잖아\n",
    "사랑한 만큼 아프던\n",
    "그날들이 지나가면\n",
    "이젠 너도 좋은 기억만 남을 거니까\n",
    "흔들리지마 이젠 나는 괜찮아\n",
    "너도 이젠 너의 갈길\n",
    "그대로 그냥 가면 돼\n",
    "내가 널 놓을 수 있게\n",
    "너도 그냥 날 놓아주면 돼\n",
    "좋은 기억들만 가지고 제발 가\n",
    "네가 잘 지냈으면 좋겠어\n",
    "행복하면 더 좋고\n",
    "흔들리지마 이젠 나는 괜찮아\n",
    "너도 이젠 너의 갈길\n",
    "그대로 그냥 가면 돼\n",
    "내가 널 놓을 수 있게\n",
    "너도 그냥 날 놓아주면 돼\n",
    "아픈 기억들만 내게 두고\n",
    "제발 가 제발 가\"\"\""
   ]
  },
  {
   "cell_type": "markdown",
   "metadata": {},
   "source": [
    "## Tokenize"
   ]
  },
  {
   "cell_type": "code",
   "execution_count": 15,
   "metadata": {},
   "outputs": [],
   "source": [
    "def make_corpus(text):\n",
    "    corpus = []\n",
    "    for s in text.split('\\n'):\n",
    "        corpus.append(['/'.join(p) for p in twitter.pos(s)])\n",
    "    return corpus\n",
    "\n",
    "\n",
    "def make_corpus_rm_stopwords(text):\n",
    "    corpus = []\n",
    "    for s in text.split('\\n'):\n",
    "        # 조사 아닌 놈만.\n",
    "        corpus.append(['/'.join(p) for p in twitter.pos(s) if p[1] != \"Josa\"])\n",
    "    return corpus"
   ]
  },
  {
   "cell_type": "code",
   "execution_count": 16,
   "metadata": {},
   "outputs": [],
   "source": [
    "corpus = make_corpus(text)"
   ]
  },
  {
   "cell_type": "markdown",
   "metadata": {},
   "source": [
    "## Train"
   ]
  },
  {
   "cell_type": "code",
   "execution_count": 17,
   "metadata": {},
   "outputs": [],
   "source": [
    "from gensim.models import Word2Vec, fasttext\n",
    "# input format : [[\"my\", \"name\", \"is\", \"jamie\"], [\"jamie\", \"is\", \"cute\"]]\n",
    "# size : 임베딩 차원 (나타내고 싶은 차원 )\n",
    "# window : 윈도우 사이즈\n",
    "# min_count : 고려할 단어의 최소 빈도 기준\n",
    "# workers : cpu core 수\n",
    "# iter : 반복 학습 횟수(epoch)\n",
    "# sg : 0 -> CBOW, 1 -> Skip-Gram\n",
    "# CBOW_model - Word2Vec(corpus, size=2, window=2, min_count=2, workers=1, iter=1000, sg=1)"
   ]
  },
  {
   "cell_type": "code",
   "execution_count": 18,
   "metadata": {},
   "outputs": [],
   "source": [
    "Skip_Gram_model = Word2Vec(corpus, size=2, window=2, min_count=2, workers=1, iter=1000, sg=1)"
   ]
  },
  {
   "cell_type": "code",
   "execution_count": 19,
   "metadata": {},
   "outputs": [],
   "source": [
    "# FT_CB_model = FastText(corpus, size=2, window=2, min_count=2, workers=1, iter=1000, sg=0)"
   ]
  },
  {
   "cell_type": "code",
   "execution_count": 20,
   "metadata": {},
   "outputs": [],
   "source": [
    "# FT_SG_model = FastText(corpus, size=2, window=2, min_count=2, workers=1, iter=1000, sg=1)"
   ]
  },
  {
   "cell_type": "markdown",
   "metadata": {},
   "source": [
    "## Test & Result"
   ]
  },
  {
   "cell_type": "code",
   "execution_count": 21,
   "metadata": {},
   "outputs": [
    {
     "data": {
      "text/plain": [
       "['너/Noun',\n",
       " '도/Josa',\n",
       " '돼/Verb',\n",
       " '이/Determiner',\n",
       " '젠/Noun',\n",
       " '반복/Noun',\n",
       " '날/Noun',\n",
       " '그냥/Noun',\n",
       " '들/Suffix',\n",
       " '가/Josa',\n",
       " '오늘/Noun',\n",
       " '기억/Noun',\n",
       " '만/Josa',\n",
       " '제발/Noun',\n",
       " '가/Verb',\n",
       " '해/Verb',\n",
       " '잘/Verb',\n",
       " '흔들리지마/Verb',\n",
       " '나/Noun',\n",
       " '는/Josa',\n",
       " '괜찮아/Adjective',\n",
       " '의/Josa',\n",
       " '갈길/Verb',\n",
       " '그대로/Noun',\n",
       " '가면/Noun',\n",
       " '내/Noun',\n",
       " '널/Noun',\n",
       " '놓을/Verb',\n",
       " '수/Noun',\n",
       " '있게/Adjective',\n",
       " '놓아주면/Verb',\n",
       " '이렇게/Adverb',\n",
       " '또/Noun',\n",
       " '한/Josa',\n",
       " '나도/Verb',\n",
       " '모르게/Verb',\n",
       " '와/Josa',\n",
       " '함께/Adverb',\n",
       " '듣던/Verb',\n",
       " '이/Noun',\n",
       " '노래/Noun',\n",
       " '마지막/Noun',\n",
       " '까지/Josa',\n",
       " '해주던/Verb',\n",
       " '니/Noun',\n",
       " '알/Noun',\n",
       " '아/Josa',\n",
       " '그만큼/Adverb',\n",
       " '우리/Noun',\n",
       " '미치도록/Adjective',\n",
       " '사랑/Noun',\n",
       " '이/Josa',\n",
       " '지나가면/Verb',\n",
       " '거/Noun',\n",
       " '니까/Josa',\n",
       " '아픈/Adjective',\n",
       " '내게/Verb',\n",
       " '두고/Verb',\n",
       " '좋은/Adjective']"
      ]
     },
     "execution_count": 21,
     "metadata": {},
     "output_type": "execute_result"
    }
   ],
   "source": [
    "# one hot encoding\n",
    "words = Skip_Gram_model.wv.index2word\n",
    "words"
   ]
  },
  {
   "cell_type": "code",
   "execution_count": 22,
   "metadata": {},
   "outputs": [
    {
     "data": {
      "text/plain": [
       "array([[ 0.47142896, -0.91544646],\n",
       "       [ 0.23401488, -0.813134  ],\n",
       "       [-0.54590845, -1.1323725 ],\n",
       "       [ 1.6059242 , -1.3678546 ],\n",
       "       [ 1.5902791 , -1.3151884 ],\n",
       "       [-1.0269704 , -1.621233  ],\n",
       "       [-0.25285426, -1.0436625 ],\n",
       "       [-0.440475  , -1.01501   ],\n",
       "       [ 1.6276693 , -1.4728637 ],\n",
       "       [-0.97648436, -1.8315947 ],\n",
       "       [-0.6684061 , -1.209709  ],\n",
       "       [ 2.6084056 , -2.0630383 ],\n",
       "       [ 2.626755  , -2.0735748 ],\n",
       "       [ 2.338365  , -1.8210783 ],\n",
       "       [ 2.2021537 , -1.7393926 ],\n",
       "       [-1.3550371 , -1.9371337 ],\n",
       "       [-1.3786706 , -2.1024656 ],\n",
       "       [ 1.9259071 , -1.4171693 ],\n",
       "       [ 2.0385184 , -1.5184338 ],\n",
       "       [ 2.095248  , -1.5469358 ],\n",
       "       [ 2.06121   , -1.5487473 ],\n",
       "       [ 1.1115338 , -1.0698817 ],\n",
       "       [ 1.2040175 , -1.1056701 ],\n",
       "       [-0.84111977, -1.2216092 ],\n",
       "       [-0.777073  , -1.1710678 ],\n",
       "       [-0.8667534 , -1.6610199 ],\n",
       "       [-0.88112926, -1.6647847 ],\n",
       "       [-0.948932  , -1.7545774 ],\n",
       "       [-0.8895149 , -1.7129782 ],\n",
       "       [-0.8639009 , -1.7165589 ],\n",
       "       [-0.28356788, -1.0025367 ],\n",
       "       [-0.6374508 , -1.1451039 ],\n",
       "       [-1.2244741 , -1.7832597 ],\n",
       "       [ 0.18559158, -0.9902235 ],\n",
       "       [-1.7619131 , -2.3368    ],\n",
       "       [-1.6220443 , -2.2375858 ],\n",
       "       [-0.7281026 , -2.069319  ],\n",
       "       [-0.8144125 , -2.1784859 ],\n",
       "       [-0.9868126 , -2.3513143 ],\n",
       "       [-1.1491082 , -2.4976869 ],\n",
       "       [-0.94724834, -2.3329878 ],\n",
       "       [-0.8261186 , -1.5150796 ],\n",
       "       [-0.9561489 , -1.6042601 ],\n",
       "       [-0.8333587 , -1.5236514 ],\n",
       "       [-1.4096687 , -2.1747513 ],\n",
       "       [-1.6031741 , -2.3625145 ],\n",
       "       [-1.4633621 , -2.2291934 ],\n",
       "       [ 0.3535825 , -1.1218586 ],\n",
       "       [ 0.44335207, -1.0951406 ],\n",
       "       [ 0.4580821 , -1.0776558 ],\n",
       "       [ 0.34910718, -0.9175981 ],\n",
       "       [ 0.6227986 , -1.0143046 ],\n",
       "       [ 0.6509011 , -1.0467123 ],\n",
       "       [ 1.7169157 , -1.406271  ],\n",
       "       [ 1.7360619 , -1.4841918 ],\n",
       "       [ 2.3532412 , -1.8957062 ],\n",
       "       [ 2.5269628 , -2.0274923 ],\n",
       "       [ 2.5005898 , -1.9658544 ],\n",
       "       [ 1.8162532 , -1.5104502 ]], dtype=float32)"
      ]
     },
     "execution_count": 22,
     "metadata": {},
     "output_type": "execute_result"
    }
   ],
   "source": [
    "vectors = Skip_Gram_model.wv.vectors\n",
    "vectors"
   ]
  },
  {
   "cell_type": "code",
   "execution_count": 23,
   "metadata": {},
   "outputs": [],
   "source": [
    "Skip_Gram_model_result = dict(zip(words, vectors))"
   ]
  },
  {
   "cell_type": "code",
   "execution_count": 24,
   "metadata": {},
   "outputs": [
    {
     "name": "stderr",
     "output_type": "stream",
     "text": [
      "C:\\Users\\sora\\Anaconda3\\lib\\site-packages\\ipykernel_launcher.py:2: DeprecationWarning: Call to deprecated `most_similar` (Method will be removed in 4.0.0, use self.wv.most_similar() instead).\n",
      "  \n"
     ]
    },
    {
     "data": {
      "text/plain": [
       "[('미치도록/Adjective', 0.9972911477088928),\n",
       " ('이/Josa', 0.9971806406974792),\n",
       " ('지나가면/Verb', 0.9967389702796936),\n",
       " ('우리/Noun', 0.9958727955818176),\n",
       " ('사랑/Noun', 0.993733823299408)]"
      ]
     },
     "execution_count": 24,
     "metadata": {},
     "output_type": "execute_result"
    }
   ],
   "source": [
    "#유사도 측정\n",
    "Skip_Gram_model.most_similar('너/Noun', topn=5)"
   ]
  },
  {
   "cell_type": "code",
   "execution_count": 25,
   "metadata": {},
   "outputs": [
    {
     "data": {
      "text/html": [
       "<div>\n",
       "<style scoped>\n",
       "    .dataframe tbody tr th:only-of-type {\n",
       "        vertical-align: middle;\n",
       "    }\n",
       "\n",
       "    .dataframe tbody tr th {\n",
       "        vertical-align: top;\n",
       "    }\n",
       "\n",
       "    .dataframe thead th {\n",
       "        text-align: right;\n",
       "    }\n",
       "</style>\n",
       "<table border=\"1\" class=\"dataframe\">\n",
       "  <thead>\n",
       "    <tr style=\"text-align: right;\">\n",
       "      <th></th>\n",
       "      <th>word</th>\n",
       "      <th>x1</th>\n",
       "      <th>x2</th>\n",
       "    </tr>\n",
       "  </thead>\n",
       "  <tbody>\n",
       "    <tr>\n",
       "      <th>0</th>\n",
       "      <td>너/Noun</td>\n",
       "      <td>0.471429</td>\n",
       "      <td>-0.915446</td>\n",
       "    </tr>\n",
       "    <tr>\n",
       "      <th>1</th>\n",
       "      <td>도/Josa</td>\n",
       "      <td>0.234015</td>\n",
       "      <td>-0.813134</td>\n",
       "    </tr>\n",
       "    <tr>\n",
       "      <th>2</th>\n",
       "      <td>돼/Verb</td>\n",
       "      <td>-0.545908</td>\n",
       "      <td>-1.132372</td>\n",
       "    </tr>\n",
       "    <tr>\n",
       "      <th>3</th>\n",
       "      <td>이/Determiner</td>\n",
       "      <td>1.605924</td>\n",
       "      <td>-1.367855</td>\n",
       "    </tr>\n",
       "    <tr>\n",
       "      <th>4</th>\n",
       "      <td>젠/Noun</td>\n",
       "      <td>1.590279</td>\n",
       "      <td>-1.315188</td>\n",
       "    </tr>\n",
       "    <tr>\n",
       "      <th>5</th>\n",
       "      <td>반복/Noun</td>\n",
       "      <td>-1.026970</td>\n",
       "      <td>-1.621233</td>\n",
       "    </tr>\n",
       "    <tr>\n",
       "      <th>6</th>\n",
       "      <td>날/Noun</td>\n",
       "      <td>-0.252854</td>\n",
       "      <td>-1.043663</td>\n",
       "    </tr>\n",
       "    <tr>\n",
       "      <th>7</th>\n",
       "      <td>그냥/Noun</td>\n",
       "      <td>-0.440475</td>\n",
       "      <td>-1.015010</td>\n",
       "    </tr>\n",
       "    <tr>\n",
       "      <th>8</th>\n",
       "      <td>들/Suffix</td>\n",
       "      <td>1.627669</td>\n",
       "      <td>-1.472864</td>\n",
       "    </tr>\n",
       "    <tr>\n",
       "      <th>9</th>\n",
       "      <td>가/Josa</td>\n",
       "      <td>-0.976484</td>\n",
       "      <td>-1.831595</td>\n",
       "    </tr>\n",
       "    <tr>\n",
       "      <th>10</th>\n",
       "      <td>오늘/Noun</td>\n",
       "      <td>-0.668406</td>\n",
       "      <td>-1.209709</td>\n",
       "    </tr>\n",
       "    <tr>\n",
       "      <th>11</th>\n",
       "      <td>기억/Noun</td>\n",
       "      <td>2.608406</td>\n",
       "      <td>-2.063038</td>\n",
       "    </tr>\n",
       "    <tr>\n",
       "      <th>12</th>\n",
       "      <td>만/Josa</td>\n",
       "      <td>2.626755</td>\n",
       "      <td>-2.073575</td>\n",
       "    </tr>\n",
       "    <tr>\n",
       "      <th>13</th>\n",
       "      <td>제발/Noun</td>\n",
       "      <td>2.338365</td>\n",
       "      <td>-1.821078</td>\n",
       "    </tr>\n",
       "    <tr>\n",
       "      <th>14</th>\n",
       "      <td>가/Verb</td>\n",
       "      <td>2.202154</td>\n",
       "      <td>-1.739393</td>\n",
       "    </tr>\n",
       "    <tr>\n",
       "      <th>15</th>\n",
       "      <td>해/Verb</td>\n",
       "      <td>-1.355037</td>\n",
       "      <td>-1.937134</td>\n",
       "    </tr>\n",
       "    <tr>\n",
       "      <th>16</th>\n",
       "      <td>잘/Verb</td>\n",
       "      <td>-1.378671</td>\n",
       "      <td>-2.102466</td>\n",
       "    </tr>\n",
       "    <tr>\n",
       "      <th>17</th>\n",
       "      <td>흔들리지마/Verb</td>\n",
       "      <td>1.925907</td>\n",
       "      <td>-1.417169</td>\n",
       "    </tr>\n",
       "    <tr>\n",
       "      <th>18</th>\n",
       "      <td>나/Noun</td>\n",
       "      <td>2.038518</td>\n",
       "      <td>-1.518434</td>\n",
       "    </tr>\n",
       "    <tr>\n",
       "      <th>19</th>\n",
       "      <td>는/Josa</td>\n",
       "      <td>2.095248</td>\n",
       "      <td>-1.546936</td>\n",
       "    </tr>\n",
       "    <tr>\n",
       "      <th>20</th>\n",
       "      <td>괜찮아/Adjective</td>\n",
       "      <td>2.061210</td>\n",
       "      <td>-1.548747</td>\n",
       "    </tr>\n",
       "    <tr>\n",
       "      <th>21</th>\n",
       "      <td>의/Josa</td>\n",
       "      <td>1.111534</td>\n",
       "      <td>-1.069882</td>\n",
       "    </tr>\n",
       "    <tr>\n",
       "      <th>22</th>\n",
       "      <td>갈길/Verb</td>\n",
       "      <td>1.204018</td>\n",
       "      <td>-1.105670</td>\n",
       "    </tr>\n",
       "    <tr>\n",
       "      <th>23</th>\n",
       "      <td>그대로/Noun</td>\n",
       "      <td>-0.841120</td>\n",
       "      <td>-1.221609</td>\n",
       "    </tr>\n",
       "    <tr>\n",
       "      <th>24</th>\n",
       "      <td>가면/Noun</td>\n",
       "      <td>-0.777073</td>\n",
       "      <td>-1.171068</td>\n",
       "    </tr>\n",
       "    <tr>\n",
       "      <th>25</th>\n",
       "      <td>내/Noun</td>\n",
       "      <td>-0.866753</td>\n",
       "      <td>-1.661020</td>\n",
       "    </tr>\n",
       "    <tr>\n",
       "      <th>26</th>\n",
       "      <td>널/Noun</td>\n",
       "      <td>-0.881129</td>\n",
       "      <td>-1.664785</td>\n",
       "    </tr>\n",
       "    <tr>\n",
       "      <th>27</th>\n",
       "      <td>놓을/Verb</td>\n",
       "      <td>-0.948932</td>\n",
       "      <td>-1.754577</td>\n",
       "    </tr>\n",
       "    <tr>\n",
       "      <th>28</th>\n",
       "      <td>수/Noun</td>\n",
       "      <td>-0.889515</td>\n",
       "      <td>-1.712978</td>\n",
       "    </tr>\n",
       "    <tr>\n",
       "      <th>29</th>\n",
       "      <td>있게/Adjective</td>\n",
       "      <td>-0.863901</td>\n",
       "      <td>-1.716559</td>\n",
       "    </tr>\n",
       "    <tr>\n",
       "      <th>30</th>\n",
       "      <td>놓아주면/Verb</td>\n",
       "      <td>-0.283568</td>\n",
       "      <td>-1.002537</td>\n",
       "    </tr>\n",
       "    <tr>\n",
       "      <th>31</th>\n",
       "      <td>이렇게/Adverb</td>\n",
       "      <td>-0.637451</td>\n",
       "      <td>-1.145104</td>\n",
       "    </tr>\n",
       "    <tr>\n",
       "      <th>32</th>\n",
       "      <td>또/Noun</td>\n",
       "      <td>-1.224474</td>\n",
       "      <td>-1.783260</td>\n",
       "    </tr>\n",
       "    <tr>\n",
       "      <th>33</th>\n",
       "      <td>한/Josa</td>\n",
       "      <td>0.185592</td>\n",
       "      <td>-0.990224</td>\n",
       "    </tr>\n",
       "    <tr>\n",
       "      <th>34</th>\n",
       "      <td>나도/Verb</td>\n",
       "      <td>-1.761913</td>\n",
       "      <td>-2.336800</td>\n",
       "    </tr>\n",
       "    <tr>\n",
       "      <th>35</th>\n",
       "      <td>모르게/Verb</td>\n",
       "      <td>-1.622044</td>\n",
       "      <td>-2.237586</td>\n",
       "    </tr>\n",
       "    <tr>\n",
       "      <th>36</th>\n",
       "      <td>와/Josa</td>\n",
       "      <td>-0.728103</td>\n",
       "      <td>-2.069319</td>\n",
       "    </tr>\n",
       "    <tr>\n",
       "      <th>37</th>\n",
       "      <td>함께/Adverb</td>\n",
       "      <td>-0.814412</td>\n",
       "      <td>-2.178486</td>\n",
       "    </tr>\n",
       "    <tr>\n",
       "      <th>38</th>\n",
       "      <td>듣던/Verb</td>\n",
       "      <td>-0.986813</td>\n",
       "      <td>-2.351314</td>\n",
       "    </tr>\n",
       "    <tr>\n",
       "      <th>39</th>\n",
       "      <td>이/Noun</td>\n",
       "      <td>-1.149108</td>\n",
       "      <td>-2.497687</td>\n",
       "    </tr>\n",
       "    <tr>\n",
       "      <th>40</th>\n",
       "      <td>노래/Noun</td>\n",
       "      <td>-0.947248</td>\n",
       "      <td>-2.332988</td>\n",
       "    </tr>\n",
       "    <tr>\n",
       "      <th>41</th>\n",
       "      <td>마지막/Noun</td>\n",
       "      <td>-0.826119</td>\n",
       "      <td>-1.515080</td>\n",
       "    </tr>\n",
       "    <tr>\n",
       "      <th>42</th>\n",
       "      <td>까지/Josa</td>\n",
       "      <td>-0.956149</td>\n",
       "      <td>-1.604260</td>\n",
       "    </tr>\n",
       "    <tr>\n",
       "      <th>43</th>\n",
       "      <td>해주던/Verb</td>\n",
       "      <td>-0.833359</td>\n",
       "      <td>-1.523651</td>\n",
       "    </tr>\n",
       "    <tr>\n",
       "      <th>44</th>\n",
       "      <td>니/Noun</td>\n",
       "      <td>-1.409669</td>\n",
       "      <td>-2.174751</td>\n",
       "    </tr>\n",
       "    <tr>\n",
       "      <th>45</th>\n",
       "      <td>알/Noun</td>\n",
       "      <td>-1.603174</td>\n",
       "      <td>-2.362514</td>\n",
       "    </tr>\n",
       "    <tr>\n",
       "      <th>46</th>\n",
       "      <td>아/Josa</td>\n",
       "      <td>-1.463362</td>\n",
       "      <td>-2.229193</td>\n",
       "    </tr>\n",
       "    <tr>\n",
       "      <th>47</th>\n",
       "      <td>그만큼/Adverb</td>\n",
       "      <td>0.353583</td>\n",
       "      <td>-1.121859</td>\n",
       "    </tr>\n",
       "    <tr>\n",
       "      <th>48</th>\n",
       "      <td>우리/Noun</td>\n",
       "      <td>0.443352</td>\n",
       "      <td>-1.095141</td>\n",
       "    </tr>\n",
       "    <tr>\n",
       "      <th>49</th>\n",
       "      <td>미치도록/Adjective</td>\n",
       "      <td>0.458082</td>\n",
       "      <td>-1.077656</td>\n",
       "    </tr>\n",
       "    <tr>\n",
       "      <th>50</th>\n",
       "      <td>사랑/Noun</td>\n",
       "      <td>0.349107</td>\n",
       "      <td>-0.917598</td>\n",
       "    </tr>\n",
       "    <tr>\n",
       "      <th>51</th>\n",
       "      <td>이/Josa</td>\n",
       "      <td>0.622799</td>\n",
       "      <td>-1.014305</td>\n",
       "    </tr>\n",
       "    <tr>\n",
       "      <th>52</th>\n",
       "      <td>지나가면/Verb</td>\n",
       "      <td>0.650901</td>\n",
       "      <td>-1.046712</td>\n",
       "    </tr>\n",
       "    <tr>\n",
       "      <th>53</th>\n",
       "      <td>거/Noun</td>\n",
       "      <td>1.716916</td>\n",
       "      <td>-1.406271</td>\n",
       "    </tr>\n",
       "    <tr>\n",
       "      <th>54</th>\n",
       "      <td>니까/Josa</td>\n",
       "      <td>1.736062</td>\n",
       "      <td>-1.484192</td>\n",
       "    </tr>\n",
       "    <tr>\n",
       "      <th>55</th>\n",
       "      <td>아픈/Adjective</td>\n",
       "      <td>2.353241</td>\n",
       "      <td>-1.895706</td>\n",
       "    </tr>\n",
       "    <tr>\n",
       "      <th>56</th>\n",
       "      <td>내게/Verb</td>\n",
       "      <td>2.526963</td>\n",
       "      <td>-2.027492</td>\n",
       "    </tr>\n",
       "    <tr>\n",
       "      <th>57</th>\n",
       "      <td>두고/Verb</td>\n",
       "      <td>2.500590</td>\n",
       "      <td>-1.965854</td>\n",
       "    </tr>\n",
       "    <tr>\n",
       "      <th>58</th>\n",
       "      <td>좋은/Adjective</td>\n",
       "      <td>1.816253</td>\n",
       "      <td>-1.510450</td>\n",
       "    </tr>\n",
       "  </tbody>\n",
       "</table>\n",
       "</div>"
      ],
      "text/plain": [
       "              word        x1        x2\n",
       "0           너/Noun  0.471429 -0.915446\n",
       "1           도/Josa  0.234015 -0.813134\n",
       "2           돼/Verb -0.545908 -1.132372\n",
       "3     이/Determiner  1.605924 -1.367855\n",
       "4           젠/Noun  1.590279 -1.315188\n",
       "5          반복/Noun -1.026970 -1.621233\n",
       "6           날/Noun -0.252854 -1.043663\n",
       "7          그냥/Noun -0.440475 -1.015010\n",
       "8         들/Suffix  1.627669 -1.472864\n",
       "9           가/Josa -0.976484 -1.831595\n",
       "10         오늘/Noun -0.668406 -1.209709\n",
       "11         기억/Noun  2.608406 -2.063038\n",
       "12          만/Josa  2.626755 -2.073575\n",
       "13         제발/Noun  2.338365 -1.821078\n",
       "14          가/Verb  2.202154 -1.739393\n",
       "15          해/Verb -1.355037 -1.937134\n",
       "16          잘/Verb -1.378671 -2.102466\n",
       "17      흔들리지마/Verb  1.925907 -1.417169\n",
       "18          나/Noun  2.038518 -1.518434\n",
       "19          는/Josa  2.095248 -1.546936\n",
       "20   괜찮아/Adjective  2.061210 -1.548747\n",
       "21          의/Josa  1.111534 -1.069882\n",
       "22         갈길/Verb  1.204018 -1.105670\n",
       "23        그대로/Noun -0.841120 -1.221609\n",
       "24         가면/Noun -0.777073 -1.171068\n",
       "25          내/Noun -0.866753 -1.661020\n",
       "26          널/Noun -0.881129 -1.664785\n",
       "27         놓을/Verb -0.948932 -1.754577\n",
       "28          수/Noun -0.889515 -1.712978\n",
       "29    있게/Adjective -0.863901 -1.716559\n",
       "30       놓아주면/Verb -0.283568 -1.002537\n",
       "31      이렇게/Adverb -0.637451 -1.145104\n",
       "32          또/Noun -1.224474 -1.783260\n",
       "33          한/Josa  0.185592 -0.990224\n",
       "34         나도/Verb -1.761913 -2.336800\n",
       "35        모르게/Verb -1.622044 -2.237586\n",
       "36          와/Josa -0.728103 -2.069319\n",
       "37       함께/Adverb -0.814412 -2.178486\n",
       "38         듣던/Verb -0.986813 -2.351314\n",
       "39          이/Noun -1.149108 -2.497687\n",
       "40         노래/Noun -0.947248 -2.332988\n",
       "41        마지막/Noun -0.826119 -1.515080\n",
       "42         까지/Josa -0.956149 -1.604260\n",
       "43        해주던/Verb -0.833359 -1.523651\n",
       "44          니/Noun -1.409669 -2.174751\n",
       "45          알/Noun -1.603174 -2.362514\n",
       "46          아/Josa -1.463362 -2.229193\n",
       "47      그만큼/Adverb  0.353583 -1.121859\n",
       "48         우리/Noun  0.443352 -1.095141\n",
       "49  미치도록/Adjective  0.458082 -1.077656\n",
       "50         사랑/Noun  0.349107 -0.917598\n",
       "51          이/Josa  0.622799 -1.014305\n",
       "52       지나가면/Verb  0.650901 -1.046712\n",
       "53          거/Noun  1.716916 -1.406271\n",
       "54         니까/Josa  1.736062 -1.484192\n",
       "55    아픈/Adjective  2.353241 -1.895706\n",
       "56         내게/Verb  2.526963 -2.027492\n",
       "57         두고/Verb  2.500590 -1.965854\n",
       "58    좋은/Adjective  1.816253 -1.510450"
      ]
     },
     "execution_count": 25,
     "metadata": {},
     "output_type": "execute_result"
    }
   ],
   "source": [
    "import pandas as pd\n",
    "w2v_df = pd.DataFrame(vectors, columns = ['x1', 'x2'])\n",
    "w2v_df['word'] = words\n",
    "w2v_df = w2v_df[['word', 'x1', 'x2']]\n",
    "w2v_df"
   ]
  },
  {
   "cell_type": "code",
   "execution_count": 27,
   "metadata": {},
   "outputs": [
    {
     "name": "stderr",
     "output_type": "stream",
     "text": [
      "C:\\Users\\sora\\Anaconda3\\lib\\site-packages\\matplotlib\\font_manager.py:1328: UserWarning: findfont: Font family ['HYsanB'] not found. Falling back to DejaVu Sans\n",
      "  (prop.get_family(), self.defaultFamily[fontext]))\n"
     ]
    },
    {
     "data": {
      "image/png": "[encoded data removed]",
      "text/plain": [
       "<Figure size 432x288 with 1 Axes>"
      ]
     },
     "metadata": {},
     "output_type": "display_data"
    }
   ],
   "source": [
    "import matplotlib.pyplot as plt\n",
    "import numpy as np\n",
    "import matplotlib\n",
    "\n",
    "fig, ax = plt.subplots()\n",
    "#matplotlib.rc('font', family='HYsanB')  # 한글 폰트 설정\n",
    "\n",
    "for word, x1, x2 in zip(w2v_df['word'], w2v_df['x1'], w2v_df['x2']):\n",
    "    ax.annotate(word, (x1,x2 ))\n",
    "    \n",
    "    \n",
    "PADDING = 1.0\n",
    "x_axis_min = np.amin(vectors, axis=0)[0] - PADDING\n",
    "y_axis_min = np.amin(vectors, axis=0)[1] - PADDING\n",
    "x_axis_max = np.amax(vectors, axis=0)[0] + PADDING\n",
    "y_axis_max = np.amax(vectors, axis=0)[1] + PADDING\n",
    " \n",
    "plt.xlim(x_axis_min,x_axis_max)\n",
    "plt.ylim(y_axis_min,y_axis_max)\n",
    "# 차트 크기.\n",
    "plt.rcParams[\"figure.figsize\"] = (10,10)\n",
    "\n",
    "plt.show()"
   ]
  },
  {
   "cell_type": "code",
   "execution_count": null,
   "metadata": {},
   "outputs": [],
   "source": []
  }
 ],
 "metadata": {
  "anaconda-cloud": {},
  "kernelspec": {
   "display_name": "Python 3",
   "language": "python",
   "name": "python3"
  },
  "language_info": {
   "codemirror_mode": {
    "name": "ipython",
    "version": 3
   },
   "file_extension": ".py",
   "mimetype": "text/x-python",
   "name": "python",
   "nbconvert_exporter": "python",
   "pygments_lexer": "ipython3",
   "version": "3.6.5"
  }
 },
 "nbformat": 4,
 "nbformat_minor": 2
}

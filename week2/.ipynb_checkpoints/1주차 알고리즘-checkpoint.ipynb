{
 "cells": [
  {
   "cell_type": "markdown",
   "metadata": {},
   "source": [
    "## 1. 영문 대소문자로 이루어진 문자열 입력했을 때, 문자열 내에 몇개의 단어가 있는지 구하는 알고리즘을 작성하시오.\n",
    "(중복된 단어는 제외한다)\n"
   ]
  },
  {
   "cell_type": "code",
   "execution_count": null,
   "metadata": {},
   "outputs": [],
   "source": [
    "print(\"문자열을 입력하세요\")\n",
    "\n",
    "t=list()\n",
    "x=input()\n",
    "#정규식 사용\n",
    "x_s=x.split(\" \")\n",
    "\n",
    "for i in x_s:\n",
    "    #정규식 사용\n",
    "    #콤마나 . 등 문자열이 아닌 것이 포함될 확률도 있기때문\n",
    "    i=i.split(\"[a-zA-Z]+\")\n",
    "    if(i in t):\n",
    "        continue\n",
    "    else:\n",
    "        t.append(i)\n",
    "        \n",
    "        \n",
    "\n",
    "x_s"
   ]
  },
  {
   "cell_type": "code",
   "execution_count": null,
   "metadata": {},
   "outputs": [],
   "source": [
    "len(t)"
   ]
  },
  {
   "cell_type": "markdown",
   "metadata": {},
   "source": [
    "## 2) 대문자로 이루어진 문자열을 입력하였을 때 특정 열이 몇번 등장하는가?\n"
   ]
  },
  {
   "cell_type": "code",
   "execution_count": null,
   "metadata": {},
   "outputs": [],
   "source": [
    "print(\"(문자열\"+\", 찾을 문자열)\"+\" 형식으로 입력하세요\")\n",
    "x1=input()\n",
    "\n",
    "base=x1.split(',')[0]\n",
    "find=x1.split(',')[1]\n",
    "\n",
    "print(find,\"가 나타난 횟수:\", base.count(find))"
   ]
  },
  {
   "cell_type": "markdown",
   "metadata": {},
   "source": [
    "## 3) 숫자와 알파벳으로 구성된 문자열을 입력받아서 숫자만큼 알파벳을 반복시켜 반환하는 함수이다. 이 때 1~9 사이의 숫자 뒤에 알파벳이 하나 나오는 패턴이반복된다. 그 기능을 수행하는 함수 uncompress(s)를 구현하시오"
   ]
  },
  {
   "cell_type": "code",
   "execution_count": null,
   "metadata": {},
   "outputs": [],
   "source": []
  }
 ],
 "metadata": {
  "kernelspec": {
   "display_name": "Python 3",
   "language": "python",
   "name": "python3"
  },
  "language_info": {
   "codemirror_mode": {
    "name": "ipython",
    "version": 3
   },
   "file_extension": ".py",
   "mimetype": "text/x-python",
   "name": "python",
   "nbconvert_exporter": "python",
   "pygments_lexer": "ipython3",
   "version": "3.6.6"
  }
 },
 "nbformat": 4,
 "nbformat_minor": 2
}

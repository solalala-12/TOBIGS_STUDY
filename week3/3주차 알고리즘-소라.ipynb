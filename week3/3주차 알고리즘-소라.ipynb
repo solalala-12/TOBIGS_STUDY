{
 "cells": [
  {
   "cell_type": "code",
   "execution_count": 65,
   "metadata": {},
   "outputs": [],
   "source": [
    "import numpy as np\n",
    "import pandas as pd"
   ]
  },
  {
   "cell_type": "markdown",
   "metadata": {},
   "source": [
    "# 문제 1번)\n"
   ]
  },
  {
   "cell_type": "code",
   "execution_count": 68,
   "metadata": {},
   "outputs": [
    {
     "name": "stdout",
     "output_type": "stream",
     "text": [
      "수를 ,로 구분하여 입력하세요\n",
      "1,2,4,4,6\n"
     ]
    }
   ],
   "source": [
    "#a를 입력받으면, b는 단조증가이돼, a-b의 절대값이 최소여야함.\n",
    "print(\"수를 ,로 구분하여 입력하세요\")\n",
    "x=input()\n",
    "\n",
    "\n",
    "\n",
    "for i in x:\n",
    "    x_list=x.split(',')\n",
    "a=np.array(x_list)\n",
    "\n",
    "b=np.zeros(len(a))"
   ]
  },
  {
   "cell_type": "code",
   "execution_count": 69,
   "metadata": {},
   "outputs": [
    {
     "name": "stdout",
     "output_type": "stream",
     "text": [
      "[1. 2. 4. 4. 6.]\n",
      "합의 최소값  0\n"
     ]
    }
   ],
   "source": [
    "for i in range(0,len(b)):\n",
    "    #b가 a의 원소를 따라가게 끔.\n",
    "    b[i]=a[i]\n",
    "    while True:\n",
    "        #b[1]이면 전 원소와 비교해볼 필요 없음으로 pass\n",
    "        if(i==0):\n",
    "            break;\n",
    "        else:\n",
    "            #만약 현재 b 가 전보다 크면, ok\n",
    "            if(b[i]>b[i-1]):\n",
    "                break;\n",
    "            #만약 현재 b 가 전과 같아도, ok\n",
    "            elif(b[i]==b[i-1]):\n",
    "                break;\n",
    "            #만약 현재 b가 전보다 작으면\n",
    "            #b 의 전 요소에서 +1\n",
    "            elif(b[i]<b[i-1]):\n",
    "                b[i]=b[i-1]\n",
    "                break;\n",
    "                \n",
    "                \n",
    "    \n",
    "    \n",
    "print(b)\n",
    "\n",
    "\n",
    "sum=0\n",
    "for i in range(0,len(a)):\n",
    "    sum=sum+abs(int(a[i])-int(b[i]))\n",
    "    \n",
    "print(\"합의 최소값 \",sum)"
   ]
  },
  {
   "cell_type": "markdown",
   "metadata": {},
   "source": [
    "# 문제 2번"
   ]
  },
  {
   "cell_type": "code",
   "execution_count": 63,
   "metadata": {},
   "outputs": [],
   "source": [
    "# n=시간, t=total, meter m=한번에 가는 거리,p=확률 (올라가고 or 아니고)\n",
    "\n",
    "def cal(n,t,m,p):\n",
    "    #최소이동, 최대이동 (범위 check)\n",
    "    if(0.5*n*m<=t) & (t<=n*m):\n",
    "        #다시 시작점이라면\n",
    "        if t==0:\n",
    "            result=0\n",
    "        #마지막 조건들\n",
    "        elif (n==1) & (t==0.5*m):\n",
    "            result=p\n",
    "        elif (n==1) & (t==m):\n",
    "            result=1-p\n",
    "        else:\n",
    "            #남은m, 미끄러지면 -0.5*m\n",
    "            result=cal(n-1,t-m,m,p)*(1-p)+cal(n-1,t-0.5*m,m,p)*p\n",
    "    else:\n",
    "        result=0\n",
    "    return result\n",
    "\n",
    "\n",
    "def prob(n,t,m,p):\n",
    "    #\n",
    "    return cal(n,t,m,p)+cal(n-1,t-0.5*m,m,p)*(1-p)\n",
    "\n",
    "\n",
    "            \n",
    "    "
   ]
  },
  {
   "cell_type": "code",
   "execution_count": 64,
   "metadata": {},
   "outputs": [
    {
     "name": "stdout",
     "output_type": "stream",
     "text": [
      "0.3125\n"
     ]
    }
   ],
   "source": [
    "print(prob(6,150,30,0.5))"
   ]
  },
  {
   "cell_type": "raw",
   "metadata": {},
   "source": [
    "# 문제 3번"
   ]
  },
  {
   "cell_type": "code",
   "execution_count": 59,
   "metadata": {},
   "outputs": [],
   "source": [
    "three=pd.read_csv(r\"C:\\Users\\sora\\Tobigs\\week3\\a_dic.txt\",sep=' ',header=None)\n",
    "#three=pd.read_csv(r\"C:\\Users\\sora\\Tobigs\\week3\\test.txt\",sep=' ',header=None)"
   ]
  },
  {
   "cell_type": "code",
   "execution_count": 60,
   "metadata": {},
   "outputs": [
    {
     "name": "stdout",
     "output_type": "stream",
     "text": [
      "기존 문자열의 갯수 :  3897\n",
      "반복 스펠링 단어 갯수 :  957\n"
     ]
    }
   ],
   "source": [
    "#애초에 모든 문자를 반복문자열이라 하고 하나씩 줄여가는 방향\n",
    "u_counts=len(a_dic)\n",
    "print(\"기존 문자열의 갯수 : \",u_counts)\n",
    "#문자열 하나씩 접근\n",
    "for i in a_dic:\n",
    "    word=str(i)\n",
    "    word=word.lower()\n",
    "    #unique한 값 뽑아내기.\n",
    "    values=set(word)\n",
    "    for j in values:\n",
    "        #같은 문자열이 두번 반복되는지 확인.\n",
    "        if(word.count(j)>=2):\n",
    "            index=word.find(j)\n",
    "            #반복되는데 바로 다음으로 그 값이 연속되지 않는다면 반복문자열 아님.\n",
    "            if(word[index+1]!=j):\n",
    "                u_counts=u_counts-1\n",
    "                break;\n",
    "            \n",
    "        \n",
    "print(\"반복 스펠링 단어 갯수 : \",u_counts) "
   ]
  },
  {
   "cell_type": "code",
   "execution_count": null,
   "metadata": {},
   "outputs": [],
   "source": []
  },
  {
   "cell_type": "markdown",
   "metadata": {},
   "source": [
    "# 문제 4번"
   ]
  },
  {
   "cell_type": "code",
   "execution_count": 91,
   "metadata": {},
   "outputs": [
    {
     "name": "stdout",
     "output_type": "stream",
     "text": [
      "약수의 개수:k/ a이상 b이상의 범위를 ,로 구분하여 입력하세요\n",
      "4,5,10\n"
     ]
    }
   ],
   "source": [
    "print(\"약수의 개수:k/ a이상 b이상의 범위를 ,로 구분하여 입력하세요\")\n",
    "x=input()"
   ]
  },
  {
   "cell_type": "code",
   "execution_count": 97,
   "metadata": {},
   "outputs": [
    {
     "name": "stdout",
     "output_type": "stream",
     "text": [
      "6\n",
      "8\n",
      "10\n",
      "3 개 입니다.\n"
     ]
    }
   ],
   "source": [
    "import re\n",
    "#숫자만 가져옴\n",
    "p = re.compile('[0-9]+')\n",
    "list_x=p.findall(x)\n",
    "k=int(list_x[0])\n",
    "#약수의 개수가 k개 이상인 수를 count하는 변수\n",
    "count=0;\n",
    "\n",
    "\n",
    "# a이상 b이하의 범위\n",
    "for i in range(int(list_x[1]),int(list_x[2])+1):\n",
    "    #print(i)\n",
    "    # i 가 1부터 i 이하의 수로 나눠서 나눠지면, 약수개수 count++\n",
    "    #약수의 개수를 더해가는 변수\n",
    "    each_count=0\n",
    "    for j in range(1,i+1):\n",
    "        #print(j)\n",
    "        if(i%j==0):\n",
    "            each_count=each_count+1\n",
    "    if(each_count==k):\n",
    "        count=count+1\n",
    "        print(i)\n",
    "\n",
    "        \n",
    "print(count,\"개 입니다.\")\n",
    "    "
   ]
  },
  {
   "cell_type": "code",
   "execution_count": 83,
   "metadata": {},
   "outputs": [
    {
     "data": {
      "text/plain": [
       "['4', '5', '6']"
      ]
     },
     "execution_count": 83,
     "metadata": {},
     "output_type": "execute_result"
    }
   ],
   "source": [
    "list_x"
   ]
  },
  {
   "cell_type": "markdown",
   "metadata": {},
   "source": [
    "# 문제 5번)"
   ]
  },
  {
   "cell_type": "code",
   "execution_count": 106,
   "metadata": {},
   "outputs": [
    {
     "data": {
      "text/plain": [
       "'2'"
      ]
     },
     "execution_count": 106,
     "metadata": {},
     "output_type": "execute_result"
    }
   ],
   "source": [
    "#재귀함수 이용\n",
    "def convert(n, base):\n",
    "    T = \"0123456789ABCDEF\"\n",
    "    #몫과 나머지를 반환한다.\n",
    "    #표현할 진수로 n값을 나눠준다.\n",
    "    q, r = divmod(n, base)\n",
    "    if q == 0:\n",
    "        #몫이 0이면,나머지반환.(한자리)\n",
    "        return T[r]\n",
    "    else:\n",
    "        #몫이 0이 아니라면, 계속 나눈다. 몫이 0이 될 때 까지.\n",
    "        return convert(q, base) + T[r]\n",
    "\n",
    "\n",
    "\n",
    "\n"
   ]
  },
  {
   "cell_type": "code",
   "execution_count": 158,
   "metadata": {},
   "outputs": [
    {
     "name": "stdout",
     "output_type": "stream",
     "text": [
      "2부터10까지의 수 중에 진수 변환을 할 진수를 입력하세요\n",
      "3\n",
      "10진수 3변환진수\n",
      "1 1\n",
      "2 11\n",
      "4 121\n",
      "10 10201\n",
      "11 11111\n",
      "20 112211\n",
      "22 122221\n",
      "28 1002001\n",
      "34 1120211\n",
      "56 11022011\n",
      "82 100020001\n",
      "89 101212101\n",
      "113 122111221\n",
      "154 1012112101\n",
      "164 1100220011\n",
      "244 10000200001\n",
      "262 10111011101\n",
      "3진수 대칭 변환의 갯수 17\n"
     ]
    }
   ],
   "source": [
    "print(\"2부터10까지의 수 중에 진수 변환을 할 진수를 입력하세요\")\n",
    "x=input()\n",
    "d=int(x)\n",
    "count=0;\n",
    "print(\"10진수 %d변환진수\"%d)\n",
    "for j in range(1,301):\n",
    "    x=convert(j**2,d)\n",
    "    # 0,1,2,3,4(5) \n",
    "    # 0,1,2,3(4)\n",
    "    tf=[]\n",
    "    for i in range(0,int(len(x)/2)):\n",
    "        #대칭인지를 검사하는데, 모든 요소가 대칭이여야 한다.\n",
    "        #하나라도 대칭이 아니면, \n",
    "        if((x[i]!=x[len(x)-1-i])):\n",
    "            tf.extend('F')\n",
    "        else:\n",
    "            tf.extend('T')\n",
    "        #모두가 대칭이라면\n",
    "    \n",
    "    if(('F' in tf)):\n",
    "        continue\n",
    "    else:\n",
    "        count=count+1\n",
    "        print(j,x)\n",
    "print(\"%d진수 대칭 변환의 갯수\"%d,count)"
   ]
  },
  {
   "cell_type": "code",
   "execution_count": null,
   "metadata": {},
   "outputs": [],
   "source": []
  }
 ],
 "metadata": {
  "kernelspec": {
   "display_name": "Python 3",
   "language": "python",
   "name": "python3"
  },
  "language_info": {
   "codemirror_mode": {
    "name": "ipython",
    "version": 3
   },
   "file_extension": ".py",
   "mimetype": "text/x-python",
   "name": "python",
   "nbconvert_exporter": "python",
   "pygments_lexer": "ipython3",
   "version": "3.7.1"
  }
 },
 "nbformat": 4,
 "nbformat_minor": 2
}

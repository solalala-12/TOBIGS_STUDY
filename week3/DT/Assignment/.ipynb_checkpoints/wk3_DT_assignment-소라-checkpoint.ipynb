{
 "cells": [
  {
   "cell_type": "code",
   "execution_count": 1,
   "metadata": {},
   "outputs": [],
   "source": [
    "import pandas as pd \n",
    "import numpy as np\n",
    "import math"
   ]
  },
  {
   "cell_type": "markdown",
   "metadata": {},
   "source": [
    "# DT 문제 1번"
   ]
  },
  {
   "cell_type": "markdown",
   "metadata": {},
   "source": [
    "#### ※함수에 들어가 있는 변수나 flow는 본인이 바꾸셔도 가능하며 결과만 똑같이 나오면 됩니다!\n",
    "#### ※hard코딩(이 데이터셋에만 적용되는 코딩방법) 말고 전체 데이터에 적용 가능하게 함수를 짜주셔야 합니다."
   ]
  },
  {
   "cell_type": "markdown",
   "metadata": {},
   "source": [
    "# Data Loading"
   ]
  },
  {
   "cell_type": "code",
   "execution_count": 2,
   "metadata": {},
   "outputs": [
    {
     "data": {
      "text/html": [
       "<div>\n",
       "<style scoped>\n",
       "    .dataframe tbody tr th:only-of-type {\n",
       "        vertical-align: middle;\n",
       "    }\n",
       "\n",
       "    .dataframe tbody tr th {\n",
       "        vertical-align: top;\n",
       "    }\n",
       "\n",
       "    .dataframe thead th {\n",
       "        text-align: right;\n",
       "    }\n",
       "</style>\n",
       "<table border=\"1\" class=\"dataframe\">\n",
       "  <thead>\n",
       "    <tr style=\"text-align: right;\">\n",
       "      <th></th>\n",
       "      <th>age</th>\n",
       "      <th>income</th>\n",
       "      <th>student</th>\n",
       "      <th>credit_rating</th>\n",
       "      <th>class_buys_computer</th>\n",
       "    </tr>\n",
       "  </thead>\n",
       "  <tbody>\n",
       "    <tr>\n",
       "      <th>0</th>\n",
       "      <td>youth</td>\n",
       "      <td>high</td>\n",
       "      <td>no</td>\n",
       "      <td>fair</td>\n",
       "      <td>no</td>\n",
       "    </tr>\n",
       "    <tr>\n",
       "      <th>1</th>\n",
       "      <td>youth</td>\n",
       "      <td>high</td>\n",
       "      <td>no</td>\n",
       "      <td>excellent</td>\n",
       "      <td>no</td>\n",
       "    </tr>\n",
       "    <tr>\n",
       "      <th>2</th>\n",
       "      <td>middle_aged</td>\n",
       "      <td>high</td>\n",
       "      <td>no</td>\n",
       "      <td>fair</td>\n",
       "      <td>yes</td>\n",
       "    </tr>\n",
       "    <tr>\n",
       "      <th>3</th>\n",
       "      <td>senior</td>\n",
       "      <td>medium</td>\n",
       "      <td>no</td>\n",
       "      <td>fair</td>\n",
       "      <td>yes</td>\n",
       "    </tr>\n",
       "    <tr>\n",
       "      <th>4</th>\n",
       "      <td>senior</td>\n",
       "      <td>low</td>\n",
       "      <td>yes</td>\n",
       "      <td>fair</td>\n",
       "      <td>yes</td>\n",
       "    </tr>\n",
       "    <tr>\n",
       "      <th>5</th>\n",
       "      <td>senior</td>\n",
       "      <td>low</td>\n",
       "      <td>yes</td>\n",
       "      <td>excellent</td>\n",
       "      <td>no</td>\n",
       "    </tr>\n",
       "    <tr>\n",
       "      <th>6</th>\n",
       "      <td>middle_aged</td>\n",
       "      <td>low</td>\n",
       "      <td>yes</td>\n",
       "      <td>excellent</td>\n",
       "      <td>yes</td>\n",
       "    </tr>\n",
       "    <tr>\n",
       "      <th>7</th>\n",
       "      <td>youth</td>\n",
       "      <td>medium</td>\n",
       "      <td>no</td>\n",
       "      <td>fair</td>\n",
       "      <td>no</td>\n",
       "    </tr>\n",
       "    <tr>\n",
       "      <th>8</th>\n",
       "      <td>youth</td>\n",
       "      <td>low</td>\n",
       "      <td>yes</td>\n",
       "      <td>fair</td>\n",
       "      <td>yes</td>\n",
       "    </tr>\n",
       "    <tr>\n",
       "      <th>9</th>\n",
       "      <td>senior</td>\n",
       "      <td>medium</td>\n",
       "      <td>yes</td>\n",
       "      <td>fair</td>\n",
       "      <td>yes</td>\n",
       "    </tr>\n",
       "    <tr>\n",
       "      <th>10</th>\n",
       "      <td>youth</td>\n",
       "      <td>medium</td>\n",
       "      <td>yes</td>\n",
       "      <td>excellent</td>\n",
       "      <td>yes</td>\n",
       "    </tr>\n",
       "    <tr>\n",
       "      <th>11</th>\n",
       "      <td>middle_aged</td>\n",
       "      <td>medium</td>\n",
       "      <td>no</td>\n",
       "      <td>excellent</td>\n",
       "      <td>yes</td>\n",
       "    </tr>\n",
       "    <tr>\n",
       "      <th>12</th>\n",
       "      <td>middle_aged</td>\n",
       "      <td>high</td>\n",
       "      <td>yes</td>\n",
       "      <td>fair</td>\n",
       "      <td>yes</td>\n",
       "    </tr>\n",
       "    <tr>\n",
       "      <th>13</th>\n",
       "      <td>senior</td>\n",
       "      <td>medium</td>\n",
       "      <td>no</td>\n",
       "      <td>excellent</td>\n",
       "      <td>no</td>\n",
       "    </tr>\n",
       "  </tbody>\n",
       "</table>\n",
       "</div>"
      ],
      "text/plain": [
       "            age  income student credit_rating class_buys_computer\n",
       "0         youth    high      no          fair                  no\n",
       "1         youth    high      no     excellent                  no\n",
       "2   middle_aged    high      no          fair                 yes\n",
       "3        senior  medium      no          fair                 yes\n",
       "4        senior     low     yes          fair                 yes\n",
       "5        senior     low     yes     excellent                  no\n",
       "6   middle_aged     low     yes     excellent                 yes\n",
       "7         youth  medium      no          fair                  no\n",
       "8         youth     low     yes          fair                 yes\n",
       "9        senior  medium     yes          fair                 yes\n",
       "10        youth  medium     yes     excellent                 yes\n",
       "11  middle_aged  medium      no     excellent                 yes\n",
       "12  middle_aged    high     yes          fair                 yes\n",
       "13       senior  medium      no     excellent                  no"
      ]
     },
     "execution_count": 2,
     "metadata": {},
     "output_type": "execute_result"
    }
   ],
   "source": [
    "pd_data = pd.read_csv('https://raw.githubusercontent.com/AugustLONG/ML01/master/01decisiontree/AllElectronics.csv')\n",
    "pd_data.drop(\"RID\",axis=1, inplace = True) #RID는 그냥 순서라서 삭제\n",
    "pd_data"
   ]
  },
  {
   "cell_type": "markdown",
   "metadata": {},
   "source": [
    "# 1. Gini 계수에 대한 함수 만들기."
   ]
  },
  {
   "cell_type": "markdown",
   "metadata": {},
   "source": [
    "- Input은 Dataframe과 label이름으로 만들어주세요!\n",
    "- 해당 결과는 아래와 같이 나와야 합니다!"
   ]
  },
  {
   "cell_type": "code",
   "execution_count": 3,
   "metadata": {},
   "outputs": [
    {
     "data": {
      "text/plain": [
       "14"
      ]
     },
     "execution_count": 3,
     "metadata": {},
     "output_type": "execute_result"
    }
   ],
   "source": [
    "rows=len(pd_data)\n",
    "rows"
   ]
  },
  {
   "cell_type": "code",
   "execution_count": 4,
   "metadata": {},
   "outputs": [
    {
     "data": {
      "text/plain": [
       "9"
      ]
     },
     "execution_count": 4,
     "metadata": {},
     "output_type": "execute_result"
    }
   ],
   "source": [
    "list(pd_data['class_buys_computer']).count('yes')"
   ]
  },
  {
   "cell_type": "code",
   "execution_count": 6,
   "metadata": {},
   "outputs": [
    {
     "data": {
      "text/plain": [
       "array(['youth', 'middle_aged', 'senior'], dtype=object)"
      ]
     },
     "execution_count": 6,
     "metadata": {},
     "output_type": "execute_result"
    }
   ],
   "source": [
    "pd_data['age'].unique()"
   ]
  },
  {
   "cell_type": "code",
   "execution_count": 9,
   "metadata": {},
   "outputs": [],
   "source": [
    "def get_gini(df, label):\n",
    "    aa = df[label].value_counts()  #label 분포 \n",
    "    # gini index를 구하고자 하는 feature가 label yes no의 비율\n",
    "    # label 분포\n",
    "    a_class=aa.index\n",
    "    a_counts=aa.values\n",
    "    mother=len(df[label])\n",
    "    gini=1\n",
    "    for value in a_counts:\n",
    "        gini-=(value/mother)**2\n",
    "    return gini\n"
   ]
  },
  {
   "cell_type": "code",
   "execution_count": 10,
   "metadata": {
    "scrolled": true
   },
   "outputs": [
    {
     "data": {
      "text/plain": [
       "0.4591836734693877"
      ]
     },
     "execution_count": 10,
     "metadata": {},
     "output_type": "execute_result"
    }
   ],
   "source": [
    "get_gini(pd_data, 'class_buys_computer')"
   ]
  },
  {
   "cell_type": "markdown",
   "metadata": {},
   "source": [
    "# 2. Feature의 Class를 이진 분류로 만들기\n",
    "## ex) {A,B,C} -> ({A}, {B,C}), ({B}, {A,C}), ({C}, {A,B})\n",
    "- Powerset은 모든 조합을 뱉어내게 됩니다. 이건 그냥 완성된걸 드릴게요."
   ]
  },
  {
   "cell_type": "code",
   "execution_count": 23,
   "metadata": {},
   "outputs": [],
   "source": [
    "def get_powerset(feature_class):\n",
    "    power_set=[[]]\n",
    "    for elem in feature_class:\n",
    "        for sub_set in power_set:\n",
    "            power_set=power_set+[list(sub_set)+[elem]]\n",
    "    return power_set"
   ]
  },
  {
   "cell_type": "code",
   "execution_count": 27,
   "metadata": {},
   "outputs": [
    {
     "data": {
      "text/plain": [
       "[[],\n",
       " ['youth'],\n",
       " ['middle_aged'],\n",
       " ['youth', 'middle_aged'],\n",
       " ['senior'],\n",
       " ['youth', 'senior'],\n",
       " ['middle_aged', 'senior'],\n",
       " ['youth', 'middle_aged', 'senior']]"
      ]
     },
     "execution_count": 27,
     "metadata": {},
     "output_type": "execute_result"
    }
   ],
   "source": [
    "get_powerset(pd_data.age.unique())"
   ]
  },
  {
   "cell_type": "markdown",
   "metadata": {},
   "source": [
    "- 저 위에 부분 집합 중 우리가 원하는 집합(이진 분류)만 골라 내야하겠죠?\n",
    "- 그 함수를 get_binary_split로 완성해주세요!\n",
    "- 완성된 내용은 다음과 같이 나와야 합니다."
   ]
  },
  {
   "cell_type": "code",
   "execution_count": 28,
   "metadata": {},
   "outputs": [],
   "source": [
    "def get_binary_split(df, attribute):\n",
    "    fullset=get_powerset(df[attribute].unique())    \n",
    "    result=fullset[1:len(fullset)-1]\n",
    "    result = [list(i) for i in result]\n",
    "    return result"
   ]
  },
  {
   "cell_type": "code",
   "execution_count": 29,
   "metadata": {},
   "outputs": [
    {
     "data": {
      "text/plain": [
       "[['youth'],\n",
       " ['middle_aged'],\n",
       " ['youth', 'middle_aged'],\n",
       " ['senior'],\n",
       " ['youth', 'senior'],\n",
       " ['middle_aged', 'senior']]"
      ]
     },
     "execution_count": 29,
     "metadata": {},
     "output_type": "execute_result"
    }
   ],
   "source": [
    "\n",
    "list(get_binary_split(pd_data, \"age\"))"
   ]
  },
  {
   "cell_type": "code",
   "execution_count": null,
   "metadata": {},
   "outputs": [],
   "source": []
  },
  {
   "cell_type": "markdown",
   "metadata": {},
   "source": [
    "# 3. 다음은 모든 이진분류의 경우의 Gini index를 구하는 함수 만들기\n",
    "- 위에서 완성한 함수를 사용하여 만들어주세요!\n",
    "- DataFrame의 index를 사용하여 만들면 굉장히 편합니다..! 예시를 아래에서 보여드릴게요.\n",
    "- 결과는 아래 아래 아래 줄과 같아야 합니다."
   ]
  },
  {
   "cell_type": "code",
   "execution_count": 14,
   "metadata": {},
   "outputs": [
    {
     "name": "stdout",
     "output_type": "stream",
     "text": [
      "{1, 2, 3, 4, 5}\n"
     ]
    },
    {
     "data": {
      "text/html": [
       "<div>\n",
       "<style scoped>\n",
       "    .dataframe tbody tr th:only-of-type {\n",
       "        vertical-align: middle;\n",
       "    }\n",
       "\n",
       "    .dataframe tbody tr th {\n",
       "        vertical-align: top;\n",
       "    }\n",
       "\n",
       "    .dataframe thead th {\n",
       "        text-align: right;\n",
       "    }\n",
       "</style>\n",
       "<table border=\"1\" class=\"dataframe\">\n",
       "  <thead>\n",
       "    <tr style=\"text-align: right;\">\n",
       "      <th></th>\n",
       "      <th>age</th>\n",
       "      <th>income</th>\n",
       "      <th>student</th>\n",
       "      <th>credit_rating</th>\n",
       "      <th>class_buys_computer</th>\n",
       "    </tr>\n",
       "  </thead>\n",
       "  <tbody>\n",
       "    <tr>\n",
       "      <th>1</th>\n",
       "      <td>youth</td>\n",
       "      <td>high</td>\n",
       "      <td>no</td>\n",
       "      <td>excellent</td>\n",
       "      <td>no</td>\n",
       "    </tr>\n",
       "    <tr>\n",
       "      <th>2</th>\n",
       "      <td>middle_aged</td>\n",
       "      <td>high</td>\n",
       "      <td>no</td>\n",
       "      <td>fair</td>\n",
       "      <td>yes</td>\n",
       "    </tr>\n",
       "    <tr>\n",
       "      <th>3</th>\n",
       "      <td>senior</td>\n",
       "      <td>medium</td>\n",
       "      <td>no</td>\n",
       "      <td>fair</td>\n",
       "      <td>yes</td>\n",
       "    </tr>\n",
       "    <tr>\n",
       "      <th>4</th>\n",
       "      <td>senior</td>\n",
       "      <td>low</td>\n",
       "      <td>yes</td>\n",
       "      <td>fair</td>\n",
       "      <td>yes</td>\n",
       "    </tr>\n",
       "    <tr>\n",
       "      <th>5</th>\n",
       "      <td>senior</td>\n",
       "      <td>low</td>\n",
       "      <td>yes</td>\n",
       "      <td>excellent</td>\n",
       "      <td>no</td>\n",
       "    </tr>\n",
       "  </tbody>\n",
       "</table>\n",
       "</div>"
      ],
      "text/plain": [
       "           age  income student credit_rating class_buys_computer\n",
       "1        youth    high      no     excellent                  no\n",
       "2  middle_aged    high      no          fair                 yes\n",
       "3       senior  medium      no          fair                 yes\n",
       "4       senior     low     yes          fair                 yes\n",
       "5       senior     low     yes     excellent                  no"
      ]
     },
     "execution_count": 14,
     "metadata": {},
     "output_type": "execute_result"
    }
   ],
   "source": [
    "A = set([1,2,3])\n",
    "B = set([3,4,5])\n",
    "print(A.union(B))\n",
    "#A와 B의 합집합\n",
    "#0~6개의 행을 뽑아 옴. \n",
    "pd_data.loc[A.union(B)]"
   ]
  },
  {
   "cell_type": "code",
   "execution_count": 119,
   "metadata": {
    "scrolled": true
   },
   "outputs": [
    {
     "data": {
      "text/plain": [
       "14"
      ]
     },
     "execution_count": 119,
     "metadata": {},
     "output_type": "execute_result"
    }
   ],
   "source": [
    "#list(pd_data.loc[list(pd_data[(pd_data.age=='youth')].index)]['class_buys_computer']).count('yes')\n",
    "len(pd_data)"
   ]
  },
  {
   "cell_type": "code",
   "execution_count": null,
   "metadata": {},
   "outputs": [],
   "source": []
  },
  {
   "cell_type": "code",
   "execution_count": 52,
   "metadata": {},
   "outputs": [],
   "source": [
    "#데이터,x,y\n",
    "def get_attribute_gini_index(df, attribute, label):\n",
    "    #attribute의 부분집합에서 필요한 집합만을 뽑고\n",
    "    split_list=list(get_binary_split(df, attribute))\n",
    "    print(split_list)\n",
    "    result = {}\n",
    "    gini_1=gini_2=None\n",
    "    for i in range(len(split_list)):\n",
    "        if(len(split_list[i])==1):\n",
    "            gini_1=get_gini(df[df[attribute]==str(split_list[i][0])],label)\n",
    "            gini_2 = get_gini(df[df[attribute] != str(split_list[i][0])], label)\n",
    "            nrow = df[df[attribute] == split_list[i][0]].shape[0]#나머지 데이터 gini 계수 구하기\n",
    "        else:\n",
    "            a=split_list[i]\n",
    "            d1=pd.DataFrame()\n",
    "            for k,j in enumerate(a):\n",
    "                d=df[df[attribute]==j]\n",
    "                d1=pd.concat([d1,d])\n",
    "                print(d1)\n",
    "            print(d1.index)\n",
    "            # 나머지 데이터\n",
    "            d2=pd_data.drop(d1.index)\n",
    "            gini1=get_gini(d1,label)\n",
    "            gini2=get_gini(d2,label)\n",
    "            nrow=d1.shape[0]\n",
    "            split_list[i] = (split_list[i][0] + \"_\" + split_list[i][1]).split()\n",
    "        result[split_list[i][0]] = (nrow/df.shape[0])*gini_1 + (1-(nrow/df.shape[0]))*gini_2\n",
    "    return result"
   ]
  },
  {
   "cell_type": "code",
   "execution_count": 53,
   "metadata": {},
   "outputs": [
    {
     "name": "stdout",
     "output_type": "stream",
     "text": [
      "[['youth'], ['middle_aged'], ['youth', 'middle_aged'], ['senior'], ['youth', 'senior'], ['middle_aged', 'senior']]\n",
      "      age  income student credit_rating class_buys_computer\n",
      "0   youth    high      no          fair                  no\n",
      "1   youth    high      no     excellent                  no\n",
      "7   youth  medium      no          fair                  no\n",
      "8   youth     low     yes          fair                 yes\n",
      "10  youth  medium     yes     excellent                 yes\n",
      "            age  income student credit_rating class_buys_computer\n",
      "0         youth    high      no          fair                  no\n",
      "1         youth    high      no     excellent                  no\n",
      "7         youth  medium      no          fair                  no\n",
      "8         youth     low     yes          fair                 yes\n",
      "10        youth  medium     yes     excellent                 yes\n",
      "2   middle_aged    high      no          fair                 yes\n",
      "6   middle_aged     low     yes     excellent                 yes\n",
      "11  middle_aged  medium      no     excellent                 yes\n",
      "12  middle_aged    high     yes          fair                 yes\n",
      "Int64Index([0, 1, 7, 8, 10, 2, 6, 11, 12], dtype='int64')\n",
      "      age  income student credit_rating class_buys_computer\n",
      "0   youth    high      no          fair                  no\n",
      "1   youth    high      no     excellent                  no\n",
      "7   youth  medium      no          fair                  no\n",
      "8   youth     low     yes          fair                 yes\n",
      "10  youth  medium     yes     excellent                 yes\n",
      "       age  income student credit_rating class_buys_computer\n",
      "0    youth    high      no          fair                  no\n",
      "1    youth    high      no     excellent                  no\n",
      "7    youth  medium      no          fair                  no\n",
      "8    youth     low     yes          fair                 yes\n",
      "10   youth  medium     yes     excellent                 yes\n",
      "3   senior  medium      no          fair                 yes\n",
      "4   senior     low     yes          fair                 yes\n",
      "5   senior     low     yes     excellent                  no\n",
      "9   senior  medium     yes          fair                 yes\n",
      "13  senior  medium      no     excellent                  no\n",
      "Int64Index([0, 1, 7, 8, 10, 3, 4, 5, 9, 13], dtype='int64')\n",
      "            age  income student credit_rating class_buys_computer\n",
      "2   middle_aged    high      no          fair                 yes\n",
      "6   middle_aged     low     yes     excellent                 yes\n",
      "11  middle_aged  medium      no     excellent                 yes\n",
      "12  middle_aged    high     yes          fair                 yes\n",
      "            age  income student credit_rating class_buys_computer\n",
      "2   middle_aged    high      no          fair                 yes\n",
      "6   middle_aged     low     yes     excellent                 yes\n",
      "11  middle_aged  medium      no     excellent                 yes\n",
      "12  middle_aged    high     yes          fair                 yes\n",
      "3        senior  medium      no          fair                 yes\n",
      "4        senior     low     yes          fair                 yes\n",
      "5        senior     low     yes     excellent                  no\n",
      "9        senior  medium     yes          fair                 yes\n",
      "13       senior  medium      no     excellent                  no\n",
      "Int64Index([2, 6, 11, 12, 3, 4, 5, 9, 13], dtype='int64')\n"
     ]
    },
    {
     "data": {
      "text/plain": [
       "{'youth': 0.3936507936507936,\n",
       " 'middle_aged': 0.35714285714285715,\n",
       " 'youth_middle_aged': 0.17857142857142855,\n",
       " 'senior': 0.45714285714285713,\n",
       " 'youth_senior': 0.46984126984126984,\n",
       " 'middle_aged_senior': 0.46730158730158733}"
      ]
     },
     "execution_count": 53,
     "metadata": {},
     "output_type": "execute_result"
    }
   ],
   "source": [
    "get_attribute_gini_index(pd_data, \"age\", \"class_buys_computer\")"
   ]
  },
  {
   "cell_type": "markdown",
   "metadata": {},
   "source": [
    "- 여기서 가장 작은값으로 분류를 해야겠죠?"
   ]
  },
  {
   "cell_type": "code",
   "execution_count": 35,
   "metadata": {},
   "outputs": [
    {
     "data": {
      "text/plain": [
       "('middle_aged', 0.35714285714285715)"
      ]
     },
     "execution_count": 35,
     "metadata": {},
     "output_type": "execute_result"
    }
   ],
   "source": [
    "min(get_attribute_gini_index(pd_data, \"age\", \"class_buys_computer\").items())"
   ]
  },
  {
   "cell_type": "markdown",
   "metadata": {},
   "source": [
    "# 다음의 문제를 위에서 작성한 함수를 통해 구한 값으로 보여주세요!\n",
    "## 문제1) income의 이진분류를 얻는 함수 get_binary_split(pd_data, \"income\")을 통해 보여주세요.\n",
    "\n",
    "## 문제2) 가장 Gini계수가 !낮!은 Feature 즉 분류를 하는데 가장 중요한 변수를 선정하시고 get_attribute_gini_index함수를 통해 Gini index를 제시해주세요.\n",
    "\n",
    "## 문제3) 2에서 구한 Feature로 DataFrame을 분류 해주시고 나눠진 2개의 클래스에서 각각 다음으로 중요한 Feature를 선정해주시고 Gini index를 제시해주세요."
   ]
  },
  {
   "cell_type": "markdown",
   "metadata": {},
   "source": [
    "## - 문제 1) "
   ]
  },
  {
   "cell_type": "code",
   "execution_count": 36,
   "metadata": {},
   "outputs": [
    {
     "data": {
      "text/plain": [
       "[['high'],\n",
       " ['medium'],\n",
       " ['high', 'medium'],\n",
       " ['low'],\n",
       " ['high', 'low'],\n",
       " ['medium', 'low']]"
      ]
     },
     "execution_count": 36,
     "metadata": {},
     "output_type": "execute_result"
    }
   ],
   "source": [
    "get_binary_split(pd_data, \"income\")"
   ]
  },
  {
   "cell_type": "markdown",
   "metadata": {},
   "source": [
    "## - 문제2)"
   ]
  },
  {
   "cell_type": "code",
   "execution_count": 37,
   "metadata": {},
   "outputs": [
    {
     "name": "stdout",
     "output_type": "stream",
     "text": [
      "age 의 이진분류의 gini 최소값 ('middle_aged', 0.35714285714285715)\n",
      "income 의 이진분류의 gini 최소값 ('high', 0.4428571428571429)\n",
      "student 의 이진분류의 gini 최소값 ('no', 0.3673469387755103)\n",
      "credit_rating 의 이진분류의 gini 최소값 ('excellent', 0.42857142857142855)\n",
      "class_buys_computer 의 이진분류의 gini 최소값 ('no', 0.0)\n"
     ]
    }
   ],
   "source": [
    "\n",
    "#모든 칼럼 이진분류 조사해 frist split feature 선정\n",
    "\n",
    "columns=list(pd_data.columns)\n",
    "min_feature=[]\n",
    "\n",
    "\n",
    "for i in columns:\n",
    "    print(i,\"의 이진분류의 gini 최소값\",min(get_attribute_gini_index(pd_data,i, \"class_buys_computer\").items()))\n",
    "    \n"
   ]
  },
  {
   "cell_type": "markdown",
   "metadata": {},
   "source": [
    "## 결과) gini 계수를 이용한 CART 알고리즘\n",
    "frist feature는 age,Binary split은 middle_aged/ senior,youth 로 한다."
   ]
  },
  {
   "cell_type": "markdown",
   "metadata": {},
   "source": [
    "## - 문제 3"
   ]
  },
  {
   "cell_type": "code",
   "execution_count": 38,
   "metadata": {},
   "outputs": [
    {
     "name": "stdout",
     "output_type": "stream",
     "text": [
      "[2, 6, 11, 12]\n"
     ]
    }
   ],
   "source": [
    "index_i=list(pd_data[(pd_data[\"age\"]=='middle_aged')].index)\n",
    "print(index_i)\n",
    "index_e=list(pd_data[(pd_data[\"age\"]!='middle_aged')].index)\n",
    "#midlle_aged/ youth, senior 로 데이터 분할\n",
    "\n",
    "df_m=pd_data.loc[index_i]\n",
    "df_em=pd_data.loc[index_e]"
   ]
  },
  {
   "cell_type": "markdown",
   "metadata": {},
   "source": [
    "### second split feature 구하기"
   ]
  },
  {
   "cell_type": "markdown",
   "metadata": {},
   "source": [
    "- df_m ('age'- middle aged)"
   ]
  },
  {
   "cell_type": "code",
   "execution_count": 39,
   "metadata": {},
   "outputs": [
    {
     "data": {
      "text/html": [
       "<div>\n",
       "<style scoped>\n",
       "    .dataframe tbody tr th:only-of-type {\n",
       "        vertical-align: middle;\n",
       "    }\n",
       "\n",
       "    .dataframe tbody tr th {\n",
       "        vertical-align: top;\n",
       "    }\n",
       "\n",
       "    .dataframe thead th {\n",
       "        text-align: right;\n",
       "    }\n",
       "</style>\n",
       "<table border=\"1\" class=\"dataframe\">\n",
       "  <thead>\n",
       "    <tr style=\"text-align: right;\">\n",
       "      <th></th>\n",
       "      <th>age</th>\n",
       "      <th>income</th>\n",
       "      <th>student</th>\n",
       "      <th>credit_rating</th>\n",
       "      <th>class_buys_computer</th>\n",
       "    </tr>\n",
       "  </thead>\n",
       "  <tbody>\n",
       "    <tr>\n",
       "      <th>2</th>\n",
       "      <td>middle_aged</td>\n",
       "      <td>high</td>\n",
       "      <td>no</td>\n",
       "      <td>fair</td>\n",
       "      <td>yes</td>\n",
       "    </tr>\n",
       "    <tr>\n",
       "      <th>6</th>\n",
       "      <td>middle_aged</td>\n",
       "      <td>low</td>\n",
       "      <td>yes</td>\n",
       "      <td>excellent</td>\n",
       "      <td>yes</td>\n",
       "    </tr>\n",
       "    <tr>\n",
       "      <th>11</th>\n",
       "      <td>middle_aged</td>\n",
       "      <td>medium</td>\n",
       "      <td>no</td>\n",
       "      <td>excellent</td>\n",
       "      <td>yes</td>\n",
       "    </tr>\n",
       "    <tr>\n",
       "      <th>12</th>\n",
       "      <td>middle_aged</td>\n",
       "      <td>high</td>\n",
       "      <td>yes</td>\n",
       "      <td>fair</td>\n",
       "      <td>yes</td>\n",
       "    </tr>\n",
       "  </tbody>\n",
       "</table>\n",
       "</div>"
      ],
      "text/plain": [
       "            age  income student credit_rating class_buys_computer\n",
       "2   middle_aged    high      no          fair                 yes\n",
       "6   middle_aged     low     yes     excellent                 yes\n",
       "11  middle_aged  medium      no     excellent                 yes\n",
       "12  middle_aged    high     yes          fair                 yes"
      ]
     },
     "execution_count": 39,
     "metadata": {},
     "output_type": "execute_result"
    }
   ],
   "source": [
    "#frist split feature 였던 age delete\n",
    "#del df_m['age']\n",
    "df_m\n",
    "# df_m 데이터는 모든 feature에서 class_buys_computer값이 'yes'임으로 더이상 가지 치기를 하지 않아도 된다. (모든 경우에서 확률이 1이기 때문)"
   ]
  },
  {
   "cell_type": "markdown",
   "metadata": {},
   "source": [
    "- df_em ('age'-senior, youth)"
   ]
  },
  {
   "cell_type": "code",
   "execution_count": 40,
   "metadata": {},
   "outputs": [],
   "source": [
    "#middle_aged data\n",
    "del df_em['age']"
   ]
  },
  {
   "cell_type": "code",
   "execution_count": 41,
   "metadata": {
    "scrolled": true
   },
   "outputs": [
    {
     "name": "stdout",
     "output_type": "stream",
     "text": [
      "income 의 이진분류의 gini 최소값 ('high', 0.375)\n",
      "student 의 이진분류의 gini 최소값 ('no', 0.31999999999999984)\n",
      "credit_rating 의 이진분류의 gini 최소값 ('excellent', 0.4166666666666667)\n",
      "class_buys_computer 의 이진분류의 gini 최소값 ('no', 0.0)\n"
     ]
    }
   ],
   "source": [
    "columns=list(df_em.columns)\n",
    "for i in columns:\n",
    "    print(i,\"의 이진분류의 gini 최소값\",min(get_attribute_gini_index(df_em,i, \"class_buys_computer\").items()))"
   ]
  },
  {
   "cell_type": "code",
   "execution_count": 42,
   "metadata": {},
   "outputs": [
    {
     "data": {
      "text/plain": [
       "array(['no', 'yes'], dtype=object)"
      ]
     },
     "execution_count": 42,
     "metadata": {},
     "output_type": "execute_result"
    }
   ],
   "source": [
    "df_em['student'].unique()"
   ]
  },
  {
   "cell_type": "markdown",
   "metadata": {},
   "source": [
    "### 결과) student의 gini 계수가 가장 작음으로, df_em 데이터의 두번째 split feature는 student가 됨이 바람직 하다."
   ]
  },
  {
   "cell_type": "code",
   "execution_count": null,
   "metadata": {},
   "outputs": [],
   "source": []
  }
 ],
 "metadata": {
  "kernelspec": {
   "display_name": "Python 3",
   "language": "python",
   "name": "python3"
  },
  "language_info": {
   "codemirror_mode": {
    "name": "ipython",
    "version": 3
   },
   "file_extension": ".py",
   "mimetype": "text/x-python",
   "name": "python",
   "nbconvert_exporter": "python",
   "pygments_lexer": "ipython3",
   "version": "3.6.8"
  }
 },
 "nbformat": 4,
 "nbformat_minor": 2
}
